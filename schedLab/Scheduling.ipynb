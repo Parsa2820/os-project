{
 "cells": [
  {
   "cell_type": "markdown",
   "metadata": {},
   "source": [
    "# CE 424 Scheduling Lab"
   ]
  },
  {
   "cell_type": "code",
   "execution_count": 3,
   "metadata": {},
   "outputs": [],
   "source": [
    "from collections import deque\n",
    "import matplotlib.pyplot as plt\n",
    "import numpy as np\n",
    "from random import expovariate\n",
    "%matplotlib inline\n",
    "\n",
    "import doctest\n",
    "def test(fun, verbose=False):\n",
    "    doctest.run_docstring_examples(fun, None, name=fun.__name__, verbose=verbose)"
   ]
  },
  {
   "cell_type": "markdown",
   "metadata": {},
   "source": [
    "## Task Model\n",
    "\n",
    "Our model of a task ignores what computation and I/O it actually does; we are only interested in its scheduling events.  This is captured by three basic parameters, all of which operate in an abstract time unit, say ms:\n",
    "\n",
    "* arrival - the time at which the task is first initiated\n",
    "* total - total execution time of the task (how long it runs).  Generally we don't know this value, although to simulate oracle scheduling we could peek.  It determines when the task exits.\n",
    "* burst_fun - a function that returns the length of the next CPU burst, given its elapsed execution time.  This can be viewed as the time to the next syscall.  A value of 0 is taken to be run-to-completion.  A periodic application simply returns a constant, the number of time units in each burst duration.  A stochastic model is obtained by drawing a value according to some distribution.\n",
    "* io_burst_fun - a function that returns the length of time the task spends waiting for I/O etc.\n",
    "\n",
    "\n",
    "\n",
    "The overall workload is described by a stream of such tasks."
   ]
  },
  {
   "cell_type": "code",
   "execution_count": 4,
   "metadata": {},
   "outputs": [],
   "source": [
    "class Task(object):\n",
    "    \"\"\" Model of a program task: \n",
    "    arrives as a certain time and then alternates CPU and IO bursts of possibly varying length\n",
    "    till it has executed for a certain amount of CPU time\n",
    "    \"\"\"\n",
    "    task_number = 0   # Unique identifier for each task\n",
    "    \n",
    "    def __init__(self, arrival, total, burst_fun, io_burst_fun):\n",
    "        \"\"\"Create a task with specified arrival, total run time, and functions modeling burst lengths.\"\"\"\n",
    "        Task.task_number += 1\n",
    "        self.task = Task.task_number\n",
    "        self.arrival_time = arrival\n",
    "        self.total_run_time = total\n",
    "        self.cpu_burst = burst_fun\n",
    "        self.io_burst = io_burst_fun\n",
    "        return None\n",
    "    \n",
    "    def __repr__(self):\n",
    "        return \"Task {} arr:{} len:{}\".format(self.task, self.arrival_time, self.total_run_time)\n",
    "\n",
    "class TaskStream(object):\n",
    "    \"\"\"Stream of tasks arriving as time moves forward\"\"\"\n",
    "    def __init__(self, tasks):\n",
    "        self.tasks = sorted(tasks, key=lambda x: x.arrival_time)\n",
    "    \n",
    "    def next_arrival(self):\n",
    "        if not self.tasks:\n",
    "            return None\n",
    "        return self.tasks[0].arrival_time\n",
    "    \n",
    "    def enter_tasks(self, time):\n",
    "        \"\"\"Generate a thread for and remove each tasks arriving upto time. \"\"\"\n",
    "        for task in self.tasks.copy():\n",
    "            if task.arrival_time <= time:\n",
    "                self.tasks.remove(task)\n",
    "                yield Thread(task)\n",
    "\n",
    "    def show(self):\n",
    "        for t in self.tasks:\n",
    "            print(t)"
   ]
  },
  {
   "cell_type": "markdown",
   "metadata": {},
   "source": [
    "## Thread Model\n",
    "\n",
    "The execution of the steps of a task is emulated by `Thread` class `run` method.  It is passed the length of the CPU quanta up to which may run, with `q == 0` indicating indefinitely, i.e., to the end of its burst or to completion.  Based on its internal bookkeeping, i.e., where the thread is in the current burst and the task time to completion, \n",
    "`run` determines how long the thread will run and returns that value along with a status indicating whether the\n",
    "thread continues to run at the end of the quantum (\"cpu\"), blocked before the quantum (\"io\"), or ran to completion (\"done\"). \n",
    "\n",
    "One subtlety is that if a tasks is scheduled multiple times to complete a burst, the `burst_fun` is not used until the task is rescheduled after the completes, i.e., it would be returning from the syscall."
   ]
  },
  {
   "cell_type": "code",
   "execution_count": 5,
   "metadata": {},
   "outputs": [],
   "source": [
    "class Thread(object):\n",
    "    \"\"\" Model of a running process thread.\n",
    "    \n",
    "    Each time a task is run, it executes for 1 or more time units, until it\n",
    "    - completes a cpu burst\n",
    "    - exhausts a quanta (under preemptive scheduling), or\n",
    "    - completes\n",
    "    \"\"\"\n",
    "    \n",
    "    def __init__(self, task):\n",
    "        \"\"\"Create a thread object with characteristics of modeled task.\"\"\"\n",
    "        self.task = task\n",
    "        self.elapsed_time = 0\n",
    "        self.last_queued = None\n",
    "        self.wait_time = 0\n",
    "        self.remaining_burst = None\n",
    "        self.wakeup_time = None\n",
    "    \n",
    "    def __repr__(self):\n",
    "        return \"Thread {} | elapsed: {} wait:{} rbrst:{} wakeup: {}\".format(self.task, \n",
    "                                    self.elapsed_time, self.wait_time, self.remaining_burst, self.wakeup_time)\n",
    "        \n",
    "    def remaining(self):\n",
    "        return self.task.total_run_time - self.elapsed_time\n",
    "    \n",
    "    def run(self, q=0):\n",
    "        \"\"\" Advance the thread for up to q units (q==0 is nonpremptive) till cpu burst completes or done\"\"\"\n",
    "        io_time = None\n",
    "        if (self.remaining_burst):  # Still completing burst\n",
    "            if q > 0:                 # preemptive : run for Q, burst done, or pgm done\n",
    "                run_len = min(q, self.remaining_burst, self.remaining())\n",
    "            else:                      # non-preemptive : run till burst or pgm down\n",
    "                run_len = min(self.remaining_burst, self.remaining())\n",
    "            self.remaining_burst -= run_len\n",
    "            self.elapsed_time += run_len\n",
    "            if self.remaining_burst:                    # Still working on prior CPU burst\n",
    "                status = 'cpu'\n",
    "            else:\n",
    "                status = 'io'                            # completed the burst, start wait\n",
    "                io_time = self.task.io_burst(self.elapsed_time) \n",
    "        else:                                                             # starting a new burst\n",
    "            burst = self.task.cpu_burst(self.elapsed_time)   \n",
    "            if burst == 0 and q == 0:                                # run till done\n",
    "                run_len = self.remaining()           \n",
    "            elif burst == 0:                                           # run till Q or done\n",
    "                run_len = min(q, self.remaining())  \n",
    "            elif q == 0:                                               # run till burst or done\n",
    "                run_len = min(burst, self.remaining())\n",
    "            else:                                                         # run till Q, burst, or done\n",
    "                run_len = min(q, burst, self.remaining())\n",
    "\n",
    "            self.elapsed_time += run_len\n",
    "            if burst == 0:\n",
    "                status = 'cpu'\n",
    "            elif run_len < burst:                           # Continue CPU burst\n",
    "                self.remaining_burst = burst - run_len\n",
    "                status = 'cpu'\n",
    "            else:                                          # Completed CPU burst, start I/O wait\n",
    "                status = 'io'\n",
    "                io_time = self.task.io_burst(self.elapsed_time) \n",
    "\n",
    "        if self.remaining() <= 0:             # override status if thread finished\n",
    "            status = 'done'\n",
    "        return run_len, status, io_time"
   ]
  },
  {
   "cell_type": "markdown",
   "metadata": {},
   "source": [
    "## Processor  Model\n",
    "\n",
    "We also have a very simple model of a process.  It moves forward in time, either sitting idle or executing a task.  \n",
    "\n",
    "The one complexity is that if tasks arrive or IO completes while a thread is being run, they need to be entered into the ready queue.  Thus, our processor model needs access to the task stream and the enqueue method of the scheduler for such starts and restarts."
   ]
  },
  {
   "cell_type": "code",
   "execution_count": 6,
   "metadata": {},
   "outputs": [],
   "source": [
    "class Machine(object):\n",
    "    \"\"\"\n",
    "    Simulate machine.  \n",
    "    Time moves forward, either idling or running - this is the only property of the machine\n",
    "    Along the way, it consumes the list of future tasks, builds a log of its actions,\n",
    "    and records the summary of every thread.\n",
    "    \"\"\"\n",
    "    def __init__(self, task_stream, ready, verbose=False):\n",
    "        self.time = 0   \n",
    "        \n",
    "        self.log = [(0, 'start')]\n",
    "        self.threads = []\n",
    "        self.verbose = verbose\n",
    "        \n",
    "        self.io = []\n",
    "        self.future = task_stream\n",
    "        self.ready = ready\n",
    "        self._arrivals()\n",
    "        \n",
    "    def pending(self):\n",
    "        return self.future.tasks or self.io\n",
    "    \n",
    "    def next_start(self):\n",
    "        \"\"\"Return time of next start or -1 if none.\"\"\"\n",
    "        next_taskstart = self.future.next_arrival()\n",
    "        if self.io and next_taskstart:\n",
    "            return min(next_taskstart, min([t.wakeup_time for t in self.io]))\n",
    "        elif self.io:\n",
    "            return min([t.wakeup_time for t in self.io])\n",
    "        else:\n",
    "            return next_taskstart\n",
    "        \n",
    "    def io_wait(self, thread, wait_time):\n",
    "        \"\"\" Put thread completed cpu burst with positive wait time in IO queue till wakeup\"\"\"\n",
    "        thread.wakeup_time = self.time + wait_time\n",
    "        self.io.append(thread)\n",
    "        if self.verbose:\n",
    "            print(\"{0}: IO wait for Task {1} for duration {2}\".format(self.time, thread.task.task, wait_time))\n",
    "        self.log.append((self.time, 'io wait', thread.task, wait_time))\n",
    "\n",
    "    def _arrivals(self):\n",
    "        # Collect new tasks that arrived while this was idling or running\n",
    "        for thread in self.future.enter_tasks(self.time):\n",
    "            self.threads.append(thread)\n",
    "            self.ready.arrive(thread, thread.task.arrival_time)\n",
    "            if self.verbose:\n",
    "                print(\"{0}: Arrival of Task {1} (ready queue length = {2})\".format(thread.task.arrival_time, thread.task.task, len(self.ready)))\n",
    "            self.log.append((thread.task.arrival_time, 'arrive', thread.task, len(self.ready)))\n",
    "            \n",
    "        # Collect threads that completed IO\n",
    "        for thread in self.io.copy():\n",
    "            if thread.wakeup_time <= self.time:\n",
    "                self.io.remove(thread)\n",
    "                self.ready.wake(thread, thread.wakeup_time)\n",
    "                if self.verbose:\n",
    "                    print(\"{0}: Wakeup of Task {1} (ready queue length = {2})\".format(thread.wakeup_time, thread.task.task, len(self.ready)))\n",
    "                self.log.append((thread.wakeup_time, 'wakeup', thread.task, len(self.ready)))\n",
    "            \n",
    "    \n",
    "    def idle(self):\n",
    "        \"\"\"\n",
    "        Idle from current time till next task arrival or IO wait completes.  \n",
    "        Enter all tasks that arrive or IO complete during idle period ready queue.\n",
    "        \"\"\"\n",
    "        if self.pending():\n",
    "            idle_time = self.next_start()\n",
    "            if idle_time > 0:\n",
    "                if self.verbose:\n",
    "                    print(\"{0}: Idle for {1}\".format(self.time, idle_time - self.time))\n",
    "                self.log.append((self.time, 'idle', idle_time - self.time))\n",
    "                self.time = idle_time          # Processor moves forward in time\n",
    "                self._arrivals()    \n",
    "    \n",
    "    def run(self, run_time, thread):\n",
    "        \"\"\" Advance machine time for run_time.  \n",
    "        Enter new tasks and IO completes during run into ready queue\n",
    "        \"\"\"\n",
    "        if self.verbose:\n",
    "            print(\"{0}: Run Task {1} for duration {2} (ready queue length = {3})\".format(self.time, thread.task.task, run_time, len(self.ready)))\n",
    "        self.log.append((self.time, 'run', thread.task, run_time, len(self.ready), self.ready.weight()))\n",
    "        self.time += run_time           # All we do to run is move time forward\n",
    "        self._arrivals()\n",
    "            \n",
    "    def stop(self):\n",
    "        if self.verbose:\n",
    "            print(\"{0}: Stop\".format(self.time))\n",
    "        self.log.append((self.time, 'stop'))"
   ]
  },
  {
   "cell_type": "markdown",
   "metadata": {},
   "source": [
    "# Example Schedulers\n",
    "\n",
    "Each scheduler consists of a loop over the workload and a data structure that implements its policy.  The\n",
    "schedule presents the thread with its quanta to the thread model to determine how long it retains the CPU\n",
    "and the status at the end of that time, i.e. CPU, I/O, Done.  \n",
    "\n",
    "Based on that determination, it allows the machine to advance to that point in time.  Along the way, tasks\n",
    "may arrive or threads may complete their I/O wait, so the machine will invoke methods in the scheduler\n",
    "appropriately."
   ]
  },
  {
   "cell_type": "markdown",
   "metadata": {},
   "source": [
    "## FCFS and Round Robin\n",
    "\n",
    "Both are built on a simple FIFO queue, the latter with preemption using fixed quanta.  The enqueue and dequeue operation take a simulated time as which it occurs so that they can update observational data carried in the task structure for analysis and reporting."
   ]
  },
  {
   "cell_type": "code",
   "execution_count": 7,
   "metadata": {},
   "outputs": [],
   "source": [
    "class FIFOQueue:\n",
    "    \"\"\" FIFO Queue of tasks to be scheduled \"\"\"\n",
    "    def __init__(self):\n",
    "        self.queue = deque()\n",
    "    \n",
    "    def enqueue(self, thread, at_time):\n",
    "        thread.last_queued = at_time\n",
    "        self.queue.appendleft(thread)\n",
    "        \n",
    "    def dequeue(self, at_time):\n",
    "        thread = self.queue.pop()\n",
    "        thread.wait_time += at_time - thread.last_queued\n",
    "        return thread\n",
    "    \n",
    "    def arrive(self, thread, at_time):\n",
    "        self.enqueue(thread, at_time)\n",
    "    \n",
    "    def wake(self, thread, at_time):\n",
    "        self.enqueue(thread, at_time)\n",
    "    \n",
    "    def empty(self):\n",
    "        return len(self.queue) == 0\n",
    "    \n",
    "    def __len__(self):\n",
    "        return len(self.queue)\n",
    "    \n",
    "    def weight(self):\n",
    "        return sum([x.task.total_run_time - x.elapsed_time for x in self.queue])\n",
    "    \n",
    "    def show(self):\n",
    "        for e in self.queue:\n",
    "            print(\" \", e)\n",
    "            \n",
    "def scheduler(tasks, q, queue_class, verbose=False):\n",
    "    remaining = TaskStream(tasks)\n",
    "    ready = queue_class()\n",
    "    cpu = Machine(remaining, ready, verbose)\n",
    "\n",
    "    while not ready.empty() or cpu.next_start():\n",
    "        if ready.empty():\n",
    "            cpu.idle()\n",
    "        else:     \n",
    "            thread = ready.dequeue(cpu.time)\n",
    "            run_time, status, io_time = thread.run(q)\n",
    "            cpu.run(run_time, thread)\n",
    "            if status == 'io' and io_time > 0:\n",
    "                cpu.io_wait(thread, io_time)\n",
    "            elif status != 'done':\n",
    "                ready.enqueue(thread, cpu.time)    \n",
    "    cpu.stop()\n",
    "    return cpu\n",
    "    \n",
    "def round_robin(tasks, q, verbose=False):\n",
    "    return scheduler(tasks, q, FIFOQueue, verbose)\n",
    "    \n",
    "def fcfs(tasks, verbose=False):\n",
    "    return round_robin(tasks, 0, verbose)"
   ]
  },
  {
   "cell_type": "markdown",
   "metadata": {},
   "source": [
    "## Helper Functions for Burst Modeling"
   ]
  },
  {
   "cell_type": "code",
   "execution_count": 8,
   "metadata": {},
   "outputs": [],
   "source": [
    "# Burst functions and factories\n",
    "\n",
    "def indefinite(run_time):\n",
    "    \"\"\"Run till done\"\"\"\n",
    "    return 0;\n",
    "\n",
    "def nowait(run_time):\n",
    "    \"\"\"No I/O wait.\"\"\"\n",
    "    return 0;\n",
    "\n",
    "def make_periodic(duration):\n",
    "    \"\"\"Bursts of constant duration for run or io, i.e., periodic.\"\"\"\n",
    "    return lambda rt: duration\n",
    "\n",
    "def make_exponential(mean_duration):\n",
    "    \"\"\"Bursts of duration drawn from an exponential distribution of specified mean.\"\"\"\n",
    "    return lambda rt: round(expovariate(1.0/mean_duration))"
   ]
  },
  {
   "cell_type": "code",
   "execution_count": 9,
   "metadata": {},
   "outputs": [],
   "source": [
    "def analyze(thrds):\n",
    "    \"\"\"For now just print it out\"\"\"\n",
    "    print(\"---\")\n",
    "    for t in thrds:\n",
    "        print(t)"
   ]
  },
  {
   "cell_type": "markdown",
   "metadata": {},
   "source": [
    "## Study Cases"
   ]
  },
  {
   "cell_type": "code",
   "execution_count": 10,
   "metadata": {},
   "outputs": [],
   "source": [
    "Task.task_number = 0\n",
    "\n",
    "workload1 = [\n",
    "    Task(0, 4, indefinite, nowait),\n",
    "    Task(1, 7, indefinite, nowait),\n",
    "    Task(2, 2, make_periodic(1), make_periodic(4)),     # run 1, IO 4, run 1\n",
    "    Task(3, 3, make_periodic(1), make_periodic(1))      # run 1, IO 1, run 1, IO 1, run 1\n",
    "]\n",
    "\n",
    "# Idle two short, 1 long, four short\n",
    "workload2 = [\n",
    "    Task(10,  30, indefinite, nowait),\n",
    "    Task(20,  30, indefinite, nowait),\n",
    "    Task(30, 100, indefinite, nowait),\n",
    "    Task(40,  30, indefinite, nowait),\n",
    "    Task(60,  30, indefinite, nowait),\n",
    "    Task(80,  30, indefinite, nowait),\n",
    "    Task(100,  30, indefinite, nowait)\n",
    "]\n",
    "\n",
    "workload3 = [\n",
    "    Task(0, 4, make_periodic(2), make_periodic(1)),     # run 2, IO 1, run 2\n",
    "    Task(1, 7, indefinite, nowait),\n",
    "    Task(2, 2, make_periodic(1), make_periodic(2)),     # run 1, IO 2, run 1\n",
    "    Task(3, 3, make_periodic(6), make_periodic(1))\n",
    "]"
   ]
  },
  {
   "cell_type": "markdown",
   "metadata": {},
   "source": [
    "## Example Testing Code"
   ]
  },
  {
   "cell_type": "code",
   "execution_count": 11,
   "metadata": {},
   "outputs": [],
   "source": [
    "def test_fcfs_workload1():\n",
    "    \"\"\" Test FCFS on workload1\n",
    "    \n",
    "    >>> _ = fcfs(workload1, True)\n",
    "    0: Arrival of Task 1 (ready queue length = 1)\n",
    "    0: Run Task 1 for duration 4 (ready queue length = 0)\n",
    "    1: Arrival of Task 2 (ready queue length = 1)\n",
    "    2: Arrival of Task 3 (ready queue length = 2)\n",
    "    3: Arrival of Task 4 (ready queue length = 3)\n",
    "    4: Run Task 2 for duration 7 (ready queue length = 2)\n",
    "    11: Run Task 3 for duration 1 (ready queue length = 1)\n",
    "    12: IO wait for Task 3 for duration 4\n",
    "    12: Run Task 4 for duration 1 (ready queue length = 0)\n",
    "    13: IO wait for Task 4 for duration 1\n",
    "    13: Idle for 1\n",
    "    14: Wakeup of Task 4 (ready queue length = 1)\n",
    "    14: Run Task 4 for duration 1 (ready queue length = 0)\n",
    "    15: IO wait for Task 4 for duration 1\n",
    "    15: Idle for 1\n",
    "    16: Wakeup of Task 3 (ready queue length = 1)\n",
    "    16: Wakeup of Task 4 (ready queue length = 2)\n",
    "    16: Run Task 3 for duration 1 (ready queue length = 1)\n",
    "    17: Run Task 4 for duration 1 (ready queue length = 0)\n",
    "    18: Stop\n",
    "    \"\"\"\n",
    "    return"
   ]
  },
  {
   "cell_type": "code",
   "execution_count": 12,
   "metadata": {},
   "outputs": [
    {
     "name": "stdout",
     "output_type": "stream",
     "text": [
      "Finding tests in test_fcfs_workload1\n",
      "Trying:\n",
      "    _ = fcfs(workload1, True)\n",
      "Expecting:\n",
      "    0: Arrival of Task 1 (ready queue length = 1)\n",
      "    0: Run Task 1 for duration 4 (ready queue length = 0)\n",
      "    1: Arrival of Task 2 (ready queue length = 1)\n",
      "    2: Arrival of Task 3 (ready queue length = 2)\n",
      "    3: Arrival of Task 4 (ready queue length = 3)\n",
      "    4: Run Task 2 for duration 7 (ready queue length = 2)\n",
      "    11: Run Task 3 for duration 1 (ready queue length = 1)\n",
      "    12: IO wait for Task 3 for duration 4\n",
      "    12: Run Task 4 for duration 1 (ready queue length = 0)\n",
      "    13: IO wait for Task 4 for duration 1\n",
      "    13: Idle for 1\n",
      "    14: Wakeup of Task 4 (ready queue length = 1)\n",
      "    14: Run Task 4 for duration 1 (ready queue length = 0)\n",
      "    15: IO wait for Task 4 for duration 1\n",
      "    15: Idle for 1\n",
      "    16: Wakeup of Task 3 (ready queue length = 1)\n",
      "    16: Wakeup of Task 4 (ready queue length = 2)\n",
      "    16: Run Task 3 for duration 1 (ready queue length = 1)\n",
      "    17: Run Task 4 for duration 1 (ready queue length = 0)\n",
      "    18: Stop\n",
      "ok\n"
     ]
    }
   ],
   "source": [
    "test(test_fcfs_workload1, True)"
   ]
  },
  {
   "cell_type": "code",
   "execution_count": 13,
   "metadata": {},
   "outputs": [],
   "source": [
    "def test_round_robin():\n",
    "    \"\"\" Test round robin on workload1\n",
    "    \n",
    "    >>> _ = round_robin(workload1, 2, True)\n",
    "    0: Arrival of Task 1 (ready queue length = 1)\n",
    "    0: Run Task 1 for duration 2 (ready queue length = 0)\n",
    "    1: Arrival of Task 2 (ready queue length = 1)\n",
    "    2: Arrival of Task 3 (ready queue length = 2)\n",
    "    2: Run Task 2 for duration 2 (ready queue length = 2)\n",
    "    3: Arrival of Task 4 (ready queue length = 3)\n",
    "    4: Run Task 3 for duration 1 (ready queue length = 3)\n",
    "    5: IO wait for Task 3 for duration 4\n",
    "    5: Run Task 1 for duration 2 (ready queue length = 2)\n",
    "    7: Run Task 4 for duration 1 (ready queue length = 1)\n",
    "    8: IO wait for Task 4 for duration 1\n",
    "    8: Run Task 2 for duration 2 (ready queue length = 0)\n",
    "    9: Wakeup of Task 3 (ready queue length = 1)\n",
    "    9: Wakeup of Task 4 (ready queue length = 2)\n",
    "    10: Run Task 3 for duration 1 (ready queue length = 2)\n",
    "    11: Run Task 4 for duration 1 (ready queue length = 1)\n",
    "    12: IO wait for Task 4 for duration 1\n",
    "    12: Run Task 2 for duration 2 (ready queue length = 0)\n",
    "    13: Wakeup of Task 4 (ready queue length = 1)\n",
    "    14: Run Task 4 for duration 1 (ready queue length = 1)\n",
    "    15: Run Task 2 for duration 1 (ready queue length = 0)\n",
    "    16: Stop\n",
    "    \"\"\"\n",
    "    return"
   ]
  },
  {
   "cell_type": "code",
   "execution_count": 14,
   "metadata": {},
   "outputs": [
    {
     "name": "stdout",
     "output_type": "stream",
     "text": [
      "Finding tests in test_round_robin\n",
      "Trying:\n",
      "    _ = round_robin(workload1, 2, True)\n",
      "Expecting:\n",
      "    0: Arrival of Task 1 (ready queue length = 1)\n",
      "    0: Run Task 1 for duration 2 (ready queue length = 0)\n",
      "    1: Arrival of Task 2 (ready queue length = 1)\n",
      "    2: Arrival of Task 3 (ready queue length = 2)\n",
      "    2: Run Task 2 for duration 2 (ready queue length = 2)\n",
      "    3: Arrival of Task 4 (ready queue length = 3)\n",
      "    4: Run Task 3 for duration 1 (ready queue length = 3)\n",
      "    5: IO wait for Task 3 for duration 4\n",
      "    5: Run Task 1 for duration 2 (ready queue length = 2)\n",
      "    7: Run Task 4 for duration 1 (ready queue length = 1)\n",
      "    8: IO wait for Task 4 for duration 1\n",
      "    8: Run Task 2 for duration 2 (ready queue length = 0)\n",
      "    9: Wakeup of Task 3 (ready queue length = 1)\n",
      "    9: Wakeup of Task 4 (ready queue length = 2)\n",
      "    10: Run Task 3 for duration 1 (ready queue length = 2)\n",
      "    11: Run Task 4 for duration 1 (ready queue length = 1)\n",
      "    12: IO wait for Task 4 for duration 1\n",
      "    12: Run Task 2 for duration 2 (ready queue length = 0)\n",
      "    13: Wakeup of Task 4 (ready queue length = 1)\n",
      "    14: Run Task 4 for duration 1 (ready queue length = 1)\n",
      "    15: Run Task 2 for duration 1 (ready queue length = 0)\n",
      "    16: Stop\n",
      "ok\n"
     ]
    }
   ],
   "source": [
    "test(test_round_robin, True)"
   ]
  },
  {
   "cell_type": "markdown",
   "metadata": {},
   "source": [
    "## Exploring Behavior on CPU-only Workloads"
   ]
  },
  {
   "cell_type": "code",
   "execution_count": 15,
   "metadata": {},
   "outputs": [
    {
     "name": "stdout",
     "output_type": "stream",
     "text": [
      "0: Idle for 10\n",
      "10: Arrival of Task 5 (ready queue length = 1)\n",
      "10: Run Task 5 for duration 30 (ready queue length = 0)\n",
      "20: Arrival of Task 6 (ready queue length = 1)\n",
      "30: Arrival of Task 7 (ready queue length = 2)\n",
      "40: Arrival of Task 8 (ready queue length = 3)\n",
      "40: Run Task 6 for duration 30 (ready queue length = 2)\n",
      "60: Arrival of Task 9 (ready queue length = 3)\n",
      "70: Run Task 7 for duration 100 (ready queue length = 2)\n",
      "80: Arrival of Task 10 (ready queue length = 3)\n",
      "100: Arrival of Task 11 (ready queue length = 4)\n",
      "170: Run Task 8 for duration 30 (ready queue length = 3)\n",
      "200: Run Task 9 for duration 30 (ready queue length = 2)\n",
      "230: Run Task 10 for duration 30 (ready queue length = 1)\n",
      "260: Run Task 11 for duration 30 (ready queue length = 0)\n",
      "290: Stop\n",
      "---\n",
      "Thread Task 5 arr:10 len:30 | elapsed: 30 wait:0 rbrst:None wakeup: None\n",
      "Thread Task 6 arr:20 len:30 | elapsed: 30 wait:20 rbrst:None wakeup: None\n",
      "Thread Task 7 arr:30 len:100 | elapsed: 100 wait:40 rbrst:None wakeup: None\n",
      "Thread Task 8 arr:40 len:30 | elapsed: 30 wait:130 rbrst:None wakeup: None\n",
      "Thread Task 9 arr:60 len:30 | elapsed: 30 wait:140 rbrst:None wakeup: None\n",
      "Thread Task 10 arr:80 len:30 | elapsed: 30 wait:150 rbrst:None wakeup: None\n",
      "Thread Task 11 arr:100 len:30 | elapsed: 30 wait:160 rbrst:None wakeup: None\n"
     ]
    }
   ],
   "source": [
    "# FCFS exhibits convoy effect\n",
    "\n",
    "fcfs_cpu = fcfs(workload2, True)\n",
    "analyze(fcfs_cpu.threads)"
   ]
  },
  {
   "cell_type": "code",
   "execution_count": 16,
   "metadata": {},
   "outputs": [
    {
     "name": "stdout",
     "output_type": "stream",
     "text": [
      "0: Idle for 10\n",
      "10: Arrival of Task 5 (ready queue length = 1)\n",
      "10: Run Task 5 for duration 30 (ready queue length = 0)\n",
      "20: Arrival of Task 6 (ready queue length = 1)\n",
      "30: Arrival of Task 7 (ready queue length = 2)\n",
      "40: Arrival of Task 8 (ready queue length = 3)\n",
      "40: Run Task 6 for duration 30 (ready queue length = 2)\n",
      "60: Arrival of Task 9 (ready queue length = 3)\n",
      "70: Run Task 7 for duration 40 (ready queue length = 2)\n",
      "80: Arrival of Task 10 (ready queue length = 3)\n",
      "100: Arrival of Task 11 (ready queue length = 4)\n",
      "110: Run Task 8 for duration 30 (ready queue length = 4)\n",
      "140: Run Task 9 for duration 30 (ready queue length = 3)\n",
      "170: Run Task 10 for duration 30 (ready queue length = 2)\n",
      "200: Run Task 11 for duration 30 (ready queue length = 1)\n",
      "230: Run Task 7 for duration 40 (ready queue length = 0)\n",
      "270: Run Task 7 for duration 20 (ready queue length = 0)\n",
      "290: Stop\n",
      "---\n",
      "Thread Task 5 arr:10 len:30 | elapsed: 30 wait:0 rbrst:None wakeup: None\n",
      "Thread Task 6 arr:20 len:30 | elapsed: 30 wait:20 rbrst:None wakeup: None\n",
      "Thread Task 7 arr:30 len:100 | elapsed: 100 wait:160 rbrst:None wakeup: None\n",
      "Thread Task 8 arr:40 len:30 | elapsed: 30 wait:70 rbrst:None wakeup: None\n",
      "Thread Task 9 arr:60 len:30 | elapsed: 30 wait:80 rbrst:None wakeup: None\n",
      "Thread Task 10 arr:80 len:30 | elapsed: 30 wait:90 rbrst:None wakeup: None\n",
      "Thread Task 11 arr:100 len:30 | elapsed: 30 wait:100 rbrst:None wakeup: None\n"
     ]
    }
   ],
   "source": [
    "# Round robin services the later arriving short ones, more evenly distributing wait\n",
    "\n",
    "rr40_CPU = round_robin(workload2, 40, True)\n",
    "analyze(rr40_CPU.threads)"
   ]
  },
  {
   "cell_type": "code",
   "execution_count": 17,
   "metadata": {},
   "outputs": [
    {
     "name": "stdout",
     "output_type": "stream",
     "text": [
      "0: Idle for 10\n",
      "10: Arrival of Task 5 (ready queue length = 1)\n",
      "10: Run Task 5 for duration 20 (ready queue length = 0)\n",
      "20: Arrival of Task 6 (ready queue length = 1)\n",
      "30: Arrival of Task 7 (ready queue length = 2)\n",
      "30: Run Task 6 for duration 20 (ready queue length = 2)\n",
      "40: Arrival of Task 8 (ready queue length = 3)\n",
      "50: Run Task 7 for duration 20 (ready queue length = 3)\n",
      "60: Arrival of Task 9 (ready queue length = 4)\n",
      "70: Run Task 5 for duration 10 (ready queue length = 4)\n",
      "80: Arrival of Task 10 (ready queue length = 5)\n",
      "80: Run Task 8 for duration 20 (ready queue length = 4)\n",
      "100: Arrival of Task 11 (ready queue length = 5)\n",
      "100: Run Task 6 for duration 10 (ready queue length = 5)\n",
      "110: Run Task 9 for duration 20 (ready queue length = 4)\n",
      "130: Run Task 7 for duration 20 (ready queue length = 4)\n",
      "150: Run Task 10 for duration 20 (ready queue length = 4)\n",
      "170: Run Task 11 for duration 20 (ready queue length = 4)\n",
      "190: Run Task 8 for duration 10 (ready queue length = 4)\n",
      "200: Run Task 9 for duration 10 (ready queue length = 3)\n",
      "210: Run Task 7 for duration 20 (ready queue length = 2)\n",
      "230: Run Task 10 for duration 10 (ready queue length = 2)\n",
      "240: Run Task 11 for duration 10 (ready queue length = 1)\n",
      "250: Run Task 7 for duration 20 (ready queue length = 0)\n",
      "270: Run Task 7 for duration 20 (ready queue length = 0)\n",
      "290: Stop\n",
      "---\n",
      "Thread Task 5 arr:10 len:30 | elapsed: 30 wait:40 rbrst:None wakeup: None\n",
      "Thread Task 6 arr:20 len:30 | elapsed: 30 wait:60 rbrst:None wakeup: None\n",
      "Thread Task 7 arr:30 len:100 | elapsed: 100 wait:160 rbrst:None wakeup: None\n",
      "Thread Task 8 arr:40 len:30 | elapsed: 30 wait:130 rbrst:None wakeup: None\n",
      "Thread Task 9 arr:60 len:30 | elapsed: 30 wait:120 rbrst:None wakeup: None\n",
      "Thread Task 10 arr:80 len:30 | elapsed: 30 wait:130 rbrst:None wakeup: None\n",
      "Thread Task 11 arr:100 len:30 | elapsed: 30 wait:120 rbrst:None wakeup: None\n"
     ]
    }
   ],
   "source": [
    "# Round robin with short quanta causes the interactive jobs to wait\n",
    "\n",
    "rr20_cpu = round_robin(workload2, 20, True)\n",
    "analyze(rr20_cpu.threads)"
   ]
  },
  {
   "cell_type": "markdown",
   "metadata": {},
   "source": [
    "# Problem 1: Scheduling Simulator Implementation"
   ]
  },
  {
   "cell_type": "markdown",
   "metadata": {},
   "source": [
    "Complete the implementations of the SRTF and MLFQ schedulers below."
   ]
  },
  {
   "cell_type": "markdown",
   "metadata": {},
   "source": [
    "### Shortest Remaining Time First\n",
    "\n",
    "Use our oracle knowledge of the future of each job to select the one that will finish soonest.  This inherits from the generic queue providing a specialized dequeue."
   ]
  },
  {
   "cell_type": "code",
   "execution_count": 18,
   "metadata": {},
   "outputs": [],
   "source": [
    "class SRTFQueue(FIFOQueue):\n",
    "    \"\"\" Shortest remaining time first queue - with perfect knowledge \"\"\"\n",
    "    def dequeue(self, at_time):\n",
    "        # YOUR CODE HERE\n",
    "        thread = None\n",
    "        min_remaining = float('inf')\n",
    "        for idx, t in enumerate(self.queue):\n",
    "            remaining = t.remaining()\n",
    "            if remaining < min_remaining:\n",
    "                min_remaining = remaining\n",
    "                thread = t\n",
    "        self.queue.remove(thread)\n",
    "        thread.wait_time += at_time - thread.last_queued\n",
    "        return thread\n",
    "\n",
    "                \n",
    "def srtf(tasks, q, verbose=False):\n",
    "    return scheduler(tasks, q, SRTFQueue, verbose)"
   ]
  },
  {
   "cell_type": "code",
   "execution_count": 19,
   "metadata": {},
   "outputs": [],
   "source": [
    "def test_srtf1():\n",
    "    \"\"\" Test SRTF\n",
    "    \n",
    "    >>> _ = srtf(workload1, 2, True)\n",
    "    0: Arrival of Task 1 (ready queue length = 1)\n",
    "    0: Run Task 1 for duration 2 (ready queue length = 0)\n",
    "    1: Arrival of Task 2 (ready queue length = 1)\n",
    "    2: Arrival of Task 3 (ready queue length = 2)\n",
    "    2: Run Task 1 for duration 2 (ready queue length = 2)\n",
    "    3: Arrival of Task 4 (ready queue length = 3)\n",
    "    4: Run Task 3 for duration 1 (ready queue length = 2)\n",
    "    5: IO wait for Task 3 for duration 4\n",
    "    5: Run Task 4 for duration 1 (ready queue length = 1)\n",
    "    6: IO wait for Task 4 for duration 1\n",
    "    6: Run Task 2 for duration 2 (ready queue length = 0)\n",
    "    7: Wakeup of Task 4 (ready queue length = 1)\n",
    "    8: Run Task 4 for duration 1 (ready queue length = 1)\n",
    "    9: Wakeup of Task 3 (ready queue length = 2)\n",
    "    9: IO wait for Task 4 for duration 1\n",
    "    9: Run Task 3 for duration 1 (ready queue length = 1)\n",
    "    10: Wakeup of Task 4 (ready queue length = 2)\n",
    "    10: Run Task 4 for duration 1 (ready queue length = 1)\n",
    "    11: Run Task 2 for duration 2 (ready queue length = 0)\n",
    "    13: Run Task 2 for duration 2 (ready queue length = 0)\n",
    "    15: Run Task 2 for duration 1 (ready queue length = 0)\n",
    "    16: Stop\n",
    "    \"\"\"\n",
    "    return"
   ]
  },
  {
   "cell_type": "code",
   "execution_count": 20,
   "metadata": {},
   "outputs": [],
   "source": [
    "# If you implemented SRTF correctly, this test should pass\n",
    "test(test_srtf1)"
   ]
  },
  {
   "cell_type": "code",
   "execution_count": 21,
   "metadata": {},
   "outputs": [],
   "source": [
    "# Shortest Remaining Time first sets aside the long one and services all the short ones.\n",
    "\n",
    "def test_srtf2():\n",
    "    \"\"\" Test SRTF\n",
    "    \n",
    "    >>> _ = srtf(workload2, 5, True)\n",
    "    0: Idle for 10\n",
    "    10: Arrival of Task 5 (ready queue length = 1)\n",
    "    10: Run Task 5 for duration 5 (ready queue length = 0)\n",
    "    15: Run Task 5 for duration 5 (ready queue length = 0)\n",
    "    20: Arrival of Task 6 (ready queue length = 1)\n",
    "    20: Run Task 5 for duration 5 (ready queue length = 1)\n",
    "    25: Run Task 5 for duration 5 (ready queue length = 1)\n",
    "    30: Arrival of Task 7 (ready queue length = 2)\n",
    "    30: Run Task 5 for duration 5 (ready queue length = 2)\n",
    "    35: Run Task 5 for duration 5 (ready queue length = 2)\n",
    "    40: Arrival of Task 8 (ready queue length = 3)\n",
    "    40: Run Task 8 for duration 5 (ready queue length = 2)\n",
    "    45: Run Task 8 for duration 5 (ready queue length = 2)\n",
    "    50: Run Task 8 for duration 5 (ready queue length = 2)\n",
    "    55: Run Task 8 for duration 5 (ready queue length = 2)\n",
    "    60: Arrival of Task 9 (ready queue length = 3)\n",
    "    60: Run Task 8 for duration 5 (ready queue length = 3)\n",
    "    65: Run Task 8 for duration 5 (ready queue length = 3)\n",
    "    70: Run Task 9 for duration 5 (ready queue length = 2)\n",
    "    75: Run Task 9 for duration 5 (ready queue length = 2)\n",
    "    80: Arrival of Task 10 (ready queue length = 3)\n",
    "    80: Run Task 9 for duration 5 (ready queue length = 3)\n",
    "    85: Run Task 9 for duration 5 (ready queue length = 3)\n",
    "    90: Run Task 9 for duration 5 (ready queue length = 3)\n",
    "    95: Run Task 9 for duration 5 (ready queue length = 3)\n",
    "    100: Arrival of Task 11 (ready queue length = 4)\n",
    "    100: Run Task 11 for duration 5 (ready queue length = 3)\n",
    "    105: Run Task 11 for duration 5 (ready queue length = 3)\n",
    "    110: Run Task 11 for duration 5 (ready queue length = 3)\n",
    "    115: Run Task 11 for duration 5 (ready queue length = 3)\n",
    "    120: Run Task 11 for duration 5 (ready queue length = 3)\n",
    "    125: Run Task 11 for duration 5 (ready queue length = 3)\n",
    "    130: Run Task 10 for duration 5 (ready queue length = 2)\n",
    "    135: Run Task 10 for duration 5 (ready queue length = 2)\n",
    "    140: Run Task 10 for duration 5 (ready queue length = 2)\n",
    "    145: Run Task 10 for duration 5 (ready queue length = 2)\n",
    "    150: Run Task 10 for duration 5 (ready queue length = 2)\n",
    "    155: Run Task 10 for duration 5 (ready queue length = 2)\n",
    "    160: Run Task 6 for duration 5 (ready queue length = 1)\n",
    "    165: Run Task 6 for duration 5 (ready queue length = 1)\n",
    "    170: Run Task 6 for duration 5 (ready queue length = 1)\n",
    "    175: Run Task 6 for duration 5 (ready queue length = 1)\n",
    "    180: Run Task 6 for duration 5 (ready queue length = 1)\n",
    "    185: Run Task 6 for duration 5 (ready queue length = 1)\n",
    "    190: Run Task 7 for duration 5 (ready queue length = 0)\n",
    "    195: Run Task 7 for duration 5 (ready queue length = 0)\n",
    "    200: Run Task 7 for duration 5 (ready queue length = 0)\n",
    "    205: Run Task 7 for duration 5 (ready queue length = 0)\n",
    "    210: Run Task 7 for duration 5 (ready queue length = 0)\n",
    "    215: Run Task 7 for duration 5 (ready queue length = 0)\n",
    "    220: Run Task 7 for duration 5 (ready queue length = 0)\n",
    "    225: Run Task 7 for duration 5 (ready queue length = 0)\n",
    "    230: Run Task 7 for duration 5 (ready queue length = 0)\n",
    "    235: Run Task 7 for duration 5 (ready queue length = 0)\n",
    "    240: Run Task 7 for duration 5 (ready queue length = 0)\n",
    "    245: Run Task 7 for duration 5 (ready queue length = 0)\n",
    "    250: Run Task 7 for duration 5 (ready queue length = 0)\n",
    "    255: Run Task 7 for duration 5 (ready queue length = 0)\n",
    "    260: Run Task 7 for duration 5 (ready queue length = 0)\n",
    "    265: Run Task 7 for duration 5 (ready queue length = 0)\n",
    "    270: Run Task 7 for duration 5 (ready queue length = 0)\n",
    "    275: Run Task 7 for duration 5 (ready queue length = 0)\n",
    "    280: Run Task 7 for duration 5 (ready queue length = 0)\n",
    "    285: Run Task 7 for duration 5 (ready queue length = 0)\n",
    "    290: Stop\n",
    "    \"\"\"\n",
    "    return"
   ]
  },
  {
   "cell_type": "code",
   "execution_count": 22,
   "metadata": {},
   "outputs": [],
   "source": [
    "# If you implemented SRTF correctly, this test should pass\n",
    "test(test_srtf2)"
   ]
  },
  {
   "cell_type": "code",
   "execution_count": 23,
   "metadata": {},
   "outputs": [
    {
     "name": "stdout",
     "output_type": "stream",
     "text": [
      "0: Arrival of Task 12 (ready queue length = 1)\n",
      "0: Run Task 12 for duration 2 (ready queue length = 0)\n",
      "1: Arrival of Task 13 (ready queue length = 1)\n",
      "2: Arrival of Task 14 (ready queue length = 2)\n",
      "2: IO wait for Task 12 for duration 1\n",
      "2: Run Task 14 for duration 1 (ready queue length = 1)\n",
      "3: Arrival of Task 15 (ready queue length = 2)\n",
      "3: Wakeup of Task 12 (ready queue length = 3)\n",
      "3: IO wait for Task 14 for duration 2\n",
      "3: Run Task 12 for duration 2 (ready queue length = 2)\n",
      "5: Wakeup of Task 14 (ready queue length = 3)\n",
      "5: Run Task 14 for duration 1 (ready queue length = 2)\n",
      "6: Run Task 15 for duration 2 (ready queue length = 1)\n",
      "8: Run Task 15 for duration 1 (ready queue length = 1)\n",
      "9: Run Task 13 for duration 2 (ready queue length = 0)\n",
      "11: Run Task 13 for duration 2 (ready queue length = 0)\n",
      "13: Run Task 13 for duration 2 (ready queue length = 0)\n",
      "15: Run Task 13 for duration 1 (ready queue length = 0)\n",
      "16: Stop\n"
     ]
    }
   ],
   "source": [
    "# Copy-and-paste the output of this cell as your answer to Problem 1(a).\n",
    "_ = srtf(workload3, 2, True)"
   ]
  },
  {
   "cell_type": "markdown",
   "metadata": {},
   "source": [
    "#### <span style=\"font-size:xx-large;font-weight: bold;color: aqua;\">REPORT</span> Problem 1(a)\n",
    "\n",
    "```\n",
    "0: Arrival of Task 12 (ready queue length = 1)\n",
    "0: Run Task 12 for duration 2 (ready queue length = 0)\n",
    "1: Arrival of Task 13 (ready queue length = 1)\n",
    "2: Arrival of Task 14 (ready queue length = 2)\n",
    "2: IO wait for Task 12 for duration 1\n",
    "2: Run Task 14 for duration 1 (ready queue length = 1)\n",
    "3: Arrival of Task 15 (ready queue length = 2)\n",
    "3: Wakeup of Task 12 (ready queue length = 3)\n",
    "3: IO wait for Task 14 for duration 2\n",
    "3: Run Task 12 for duration 2 (ready queue length = 2)\n",
    "5: Wakeup of Task 14 (ready queue length = 3)\n",
    "5: Run Task 14 for duration 1 (ready queue length = 2)\n",
    "6: Run Task 15 for duration 2 (ready queue length = 1)\n",
    "8: Run Task 15 for duration 1 (ready queue length = 1)\n",
    "9: Run Task 13 for duration 2 (ready queue length = 0)\n",
    "11: Run Task 13 for duration 2 (ready queue length = 0)\n",
    "13: Run Task 13 for duration 2 (ready queue length = 0)\n",
    "15: Run Task 13 for duration 1 (ready queue length = 0)\n",
    "16: Stop\n",
    "```"
   ]
  },
  {
   "cell_type": "markdown",
   "metadata": {},
   "source": [
    "### MLFQ with Two Levels\n",
    "\n",
    "A foreground interactive queue with a small quantum and a background CPU-bound queue with a large quantum."
   ]
  },
  {
   "cell_type": "code",
   "execution_count": 24,
   "metadata": {},
   "outputs": [],
   "source": [
    "class TwoLevelFeedbackQueue(object):\n",
    "    \"\"\" Dual Queue of tasks to be scheduled \"\"\"\n",
    "    def __init__(self, q_int, q_cpu):\n",
    "        self.queue = deque()\n",
    "        self.q = q_int\n",
    "        self.q_cpu = q_cpu\n",
    "        self.cpu_queue = deque()\n",
    "    \n",
    "    def enqueue(self, thread, at_time):\n",
    "        \"\"\"Insert into interactive\"\"\"\n",
    "        # YOUR CODE HERE\n",
    "        thread.last_queued = at_time\n",
    "        self.queue.insert(0, thread)\n",
    "        \n",
    "    def enqueue_cpu(self, thread, at_time):\n",
    "        \"\"\"Insert into non-interactive\"\"\"\n",
    "        # YOUR CODE HERE\n",
    "        thread.last_queued = at_time\n",
    "        self.cpu_queue.insert(0, thread)\n",
    "        \n",
    "    def dequeue(self, at_time):\n",
    "        # YOUR CODE HERE\n",
    "        if len(self.queue) > 0:\n",
    "            thread = self.queue.pop()\n",
    "            thread.wait_time += at_time - thread.last_queued\n",
    "            return thread, self.q\n",
    "        if len(self.cpu_queue) > 0:\n",
    "            thread = self.cpu_queue.pop()\n",
    "            thread.wait_time += at_time - thread.last_queued\n",
    "            return thread, self.q_cpu\n",
    "        return None, None\n",
    "    \n",
    "    def arrive(self, thread, at_time):\n",
    "        self.enqueue(thread, at_time)\n",
    "    \n",
    "    def wake(self, thread, at_time):\n",
    "        self.enqueue(thread, at_time)\n",
    "    \n",
    "    def empty(self):\n",
    "        return not self.queue and not self.cpu_queue\n",
    "    \n",
    "    def __len__(self):\n",
    "        return len(self.queue) + len(self.cpu_queue)\n",
    "    \n",
    "    def weight(self):\n",
    "        return sum([t.remaining() for t in self.queue]) + sum([t.remaining() for t in self.cpu_queue])\n",
    "\n",
    "\n",
    "def mlfq2(tasks, q1, q2, verbose=False):\n",
    "    remaining = TaskStream(tasks)\n",
    "    ready = TwoLevelFeedbackQueue(q1, q2)\n",
    "    cpu = Machine(remaining, ready, verbose)\n",
    "\n",
    "    while not ready.empty() or cpu.next_start():\n",
    "        if ready.empty():\n",
    "            cpu.idle()\n",
    "        else:     \n",
    "            thread, quanta = ready.dequeue(cpu.time)\n",
    "            run_time, status, io_time = thread.run(quanta)\n",
    "            cpu.run(run_time, thread)\n",
    "            \n",
    "            if status == 'io' and io_time > 0:\n",
    "                cpu.io_wait(thread, io_time)\n",
    "            elif status == 'cpu':\n",
    "                ready.enqueue_cpu(thread, cpu.time)\n",
    "            elif status != 'done':                \n",
    "                ready.enqueue(thread, cpu.time)      \n",
    "    cpu.stop()\n",
    "    return cpu"
   ]
  },
  {
   "cell_type": "code",
   "execution_count": 25,
   "metadata": {},
   "outputs": [],
   "source": [
    "def test_mlfq21():\n",
    "    \"\"\" Test MLFQ2\n",
    "    \n",
    "    >>> _ = mlfq2(workload1, 2, 4, True)\n",
    "    0: Arrival of Task 1 (ready queue length = 1)\n",
    "    0: Run Task 1 for duration 2 (ready queue length = 0)\n",
    "    1: Arrival of Task 2 (ready queue length = 1)\n",
    "    2: Arrival of Task 3 (ready queue length = 2)\n",
    "    2: Run Task 2 for duration 2 (ready queue length = 2)\n",
    "    3: Arrival of Task 4 (ready queue length = 3)\n",
    "    4: Run Task 3 for duration 1 (ready queue length = 3)\n",
    "    5: IO wait for Task 3 for duration 4\n",
    "    5: Run Task 4 for duration 1 (ready queue length = 2)\n",
    "    6: IO wait for Task 4 for duration 1\n",
    "    6: Run Task 1 for duration 2 (ready queue length = 1)\n",
    "    7: Wakeup of Task 4 (ready queue length = 2)\n",
    "    8: Run Task 4 for duration 1 (ready queue length = 1)\n",
    "    9: Wakeup of Task 3 (ready queue length = 2)\n",
    "    9: IO wait for Task 4 for duration 1\n",
    "    9: Run Task 3 for duration 1 (ready queue length = 1)\n",
    "    10: Wakeup of Task 4 (ready queue length = 2)\n",
    "    10: Run Task 4 for duration 1 (ready queue length = 1)\n",
    "    11: Run Task 2 for duration 4 (ready queue length = 0)\n",
    "    15: Run Task 2 for duration 1 (ready queue length = 0)\n",
    "    16: Stop\n",
    "    \"\"\""
   ]
  },
  {
   "cell_type": "code",
   "execution_count": 26,
   "metadata": {},
   "outputs": [],
   "source": [
    "# If you implemented MLFQ2 correctly, this test should pass\n",
    "test(test_mlfq21)"
   ]
  },
  {
   "cell_type": "code",
   "execution_count": 27,
   "metadata": {},
   "outputs": [],
   "source": [
    "# Dual queue recognizes the long one after 1st quantum and moves to the long queue\n",
    "# No oracle information is needed.\n",
    "\n",
    "def test_mlfq22():\n",
    "    \"\"\" Test MLFQ2\n",
    "    \n",
    "    >>> _ = mlfq2(workload2, 50, 200, True)\n",
    "    0: Idle for 10\n",
    "    10: Arrival of Task 5 (ready queue length = 1)\n",
    "    10: Run Task 5 for duration 30 (ready queue length = 0)\n",
    "    20: Arrival of Task 6 (ready queue length = 1)\n",
    "    30: Arrival of Task 7 (ready queue length = 2)\n",
    "    40: Arrival of Task 8 (ready queue length = 3)\n",
    "    40: Run Task 6 for duration 30 (ready queue length = 2)\n",
    "    60: Arrival of Task 9 (ready queue length = 3)\n",
    "    70: Run Task 7 for duration 50 (ready queue length = 2)\n",
    "    80: Arrival of Task 10 (ready queue length = 3)\n",
    "    100: Arrival of Task 11 (ready queue length = 4)\n",
    "    120: Run Task 8 for duration 30 (ready queue length = 4)\n",
    "    150: Run Task 9 for duration 30 (ready queue length = 3)\n",
    "    180: Run Task 10 for duration 30 (ready queue length = 2)\n",
    "    210: Run Task 11 for duration 30 (ready queue length = 1)\n",
    "    240: Run Task 7 for duration 50 (ready queue length = 0)\n",
    "    290: Stop\n",
    "    \"\"\""
   ]
  },
  {
   "cell_type": "code",
   "execution_count": 28,
   "metadata": {},
   "outputs": [],
   "source": [
    "# If you implemented MLFQ2 correctly, this test should pass\n",
    "test(test_mlfq22)"
   ]
  },
  {
   "cell_type": "code",
   "execution_count": 29,
   "metadata": {},
   "outputs": [
    {
     "name": "stdout",
     "output_type": "stream",
     "text": [
      "0: Arrival of Task 12 (ready queue length = 1)\n",
      "0: Run Task 12 for duration 2 (ready queue length = 0)\n",
      "1: Arrival of Task 13 (ready queue length = 1)\n",
      "2: Arrival of Task 14 (ready queue length = 2)\n",
      "2: IO wait for Task 12 for duration 1\n",
      "2: Run Task 13 for duration 2 (ready queue length = 1)\n",
      "3: Arrival of Task 15 (ready queue length = 2)\n",
      "3: Wakeup of Task 12 (ready queue length = 3)\n",
      "4: Run Task 14 for duration 1 (ready queue length = 3)\n",
      "5: IO wait for Task 14 for duration 2\n",
      "5: Run Task 15 for duration 2 (ready queue length = 2)\n",
      "7: Wakeup of Task 14 (ready queue length = 3)\n",
      "7: Run Task 12 for duration 2 (ready queue length = 3)\n",
      "9: Run Task 14 for duration 1 (ready queue length = 2)\n",
      "10: Run Task 13 for duration 4 (ready queue length = 1)\n",
      "14: Run Task 15 for duration 1 (ready queue length = 1)\n",
      "15: Run Task 13 for duration 1 (ready queue length = 0)\n",
      "16: Stop\n"
     ]
    }
   ],
   "source": [
    "# Copy-and-paste the output of this cell as your answer to Problem 1(b).\n",
    "_ = mlfq2(workload3, 2, 4, True)"
   ]
  },
  {
   "cell_type": "markdown",
   "metadata": {},
   "source": [
    "#### <span style=\"font-size:xx-large;font-weight: bold;color: aqua;\">REPORT</span> Problem 1(b)\n",
    "```\n",
    "0: Arrival of Task 12 (ready queue length = 1)\n",
    "0: Run Task 12 for duration 2 (ready queue length = 0)\n",
    "1: Arrival of Task 13 (ready queue length = 1)\n",
    "2: Arrival of Task 14 (ready queue length = 2)\n",
    "2: IO wait for Task 12 for duration 1\n",
    "2: Run Task 13 for duration 2 (ready queue length = 1)\n",
    "3: Arrival of Task 15 (ready queue length = 2)\n",
    "3: Wakeup of Task 12 (ready queue length = 3)\n",
    "4: Run Task 14 for duration 1 (ready queue length = 3)\n",
    "5: IO wait for Task 14 for duration 2\n",
    "5: Run Task 15 for duration 2 (ready queue length = 2)\n",
    "7: Wakeup of Task 14 (ready queue length = 3)\n",
    "7: Run Task 12 for duration 2 (ready queue length = 3)\n",
    "9: Run Task 14 for duration 1 (ready queue length = 2)\n",
    "10: Run Task 13 for duration 4 (ready queue length = 1)\n",
    "14: Run Task 15 for duration 1 (ready queue length = 1)\n",
    "15: Run Task 13 for duration 1 (ready queue length = 0)\n",
    "16: Stop\n",
    "```\n"
   ]
  },
  {
   "cell_type": "markdown",
   "metadata": {},
   "source": [
    "# Problem 2: Approaching 100% Utilization"
   ]
  },
  {
   "cell_type": "markdown",
   "metadata": {},
   "source": [
    "#### <span style=\"font-size:xx-large;font-weight: bold;color: aqua;\">REPORT</span> Problem 2(a)\n",
    "We know that the expected value (mean) of an exponential distribution is $\\frac{1}{\\lambda}$. Here we want the expected value to be $M$. So $\\lambda$ must be $\\frac{1}{M}$.\n",
    "$$\n",
    "\\mathbb{E}[X] = \\frac{1}{\\lambda} = M \\Rightarrow \\lambda = \\frac{1}{M}\n",
    "$$"
   ]
  },
  {
   "cell_type": "markdown",
   "metadata": {},
   "source": [
    "#### <span style=\"font-size:xx-large;font-weight: bold;color: aqua;\">REPORT</span> Problem 2(b)\n",
    "CPU utilization is calculated as the ratio of the total CPU time to the total time.\n",
    "$$\n",
    "U=\\frac{T_R}{T_C} \\\\\n",
    "$$\n",
    "$U$ = Utilization \n",
    "\n",
    "$T_R$ = Requirements(Busy Time) \n",
    "\n",
    "$T_C$ = Capacity(Busy Time + Idle Time)\n",
    "\n",
    "So we can calculate the utilization as\n",
    "$$\n",
    "U = \\frac{T_R}{T_C} = \\frac{n \\times M}{n \\times \\frac{1}{\\lambda}} = M \\times \\lambda \\\\\n",
    "M \\times \\lambda = 0.5 \\Rightarrow \\lambda = \\frac{0.5}{M}\n",
    "$$"
   ]
  },
  {
   "cell_type": "code",
   "execution_count": 30,
   "metadata": {},
   "outputs": [],
   "source": [
    "def make_exp_arrivals(arrival_rate, service_time, n):\n",
    "    \"\"\"Make n tasks of exponential distributed arrival intervals and lengths\"\"\"\n",
    "    arrivals = np.cumsum(np.random.exponential(1 / arrival_rate, n))\n",
    "    lengths = [service_time for _ in range(n)]\n",
    "    return [Task(arr, run, indefinite, nowait) for arr, run in zip(arrivals, lengths)]"
   ]
  },
  {
   "cell_type": "code",
   "execution_count": 47,
   "metadata": {},
   "outputs": [],
   "source": [
    "# These functions may (or may not) be useful for you to implement\n",
    "\n",
    "def cpuUtilization(cpulog):\n",
    "    # Given the Machine's log (list of tuples), computes the average CPU utilization\n",
    "    # YOUR CODE HERE\n",
    "    r = 0\n",
    "    idle = 0\n",
    "    for l in cpulog:\n",
    "        if l[1] == 'run':\n",
    "            r += l[3]\n",
    "        elif l[1] == 'idle':\n",
    "            idle += l[2]\n",
    "    return r / (r + idle)\n",
    "\n",
    "\n",
    "def responseTimes(cpulog):\n",
    "    # Given the Machine's log, computes the response time of each task, and returns a list containing them\n",
    "    # YOUR CODE HERE\n",
    "    import itertools\n",
    "    cpulog_task = [l for l in cpulog if l[1] in ['arrive', 'run']]\n",
    "    print(cpulog_task)\n",
    "    log_by_task = itertools.groupby(cpulog_task, lambda x: x[2].task)\n",
    "    response_times = []\n",
    "    for task, group in log_by_task:\n",
    "        group = list(group)\n",
    "        arrive = group[0][0]\n",
    "        end = group[-1][0] + group[-1][3]\n",
    "        response_times.append(end - arrive)\n",
    "    return response_times\n"
   ]
  },
  {
   "cell_type": "code",
   "execution_count": 48,
   "metadata": {},
   "outputs": [
    {
     "name": "stdout",
     "output_type": "stream",
     "text": [
      "[(38.8202375819863, 'arrive', Task 90516 arr:38.8202375819863 len:10, 1), (38.8202375819863, 'run', Task 90516 arr:38.8202375819863 len:10, 2, 0, 0), (40.8202375819863, 'run', Task 90516 arr:38.8202375819863 len:10, 4, 0, 0), (44.8202375819863, 'run', Task 90516 arr:38.8202375819863 len:10, 4, 0, 0), (90.59009040779154, 'arrive', Task 90517 arr:90.59009040779154 len:10, 1), (90.59009040779154, 'run', Task 90517 arr:90.59009040779154 len:10, 2, 0, 0), (92.59009040779154, 'run', Task 90517 arr:90.59009040779154 len:10, 4, 0, 0), (96.59009040779154, 'run', Task 90517 arr:90.59009040779154 len:10, 4, 0, 0), (328.81369048360773, 'arrive', Task 90518 arr:328.81369048360773 len:10, 1), (328.81369048360773, 'run', Task 90518 arr:328.81369048360773 len:10, 2, 0, 0), (330.81369048360773, 'run', Task 90518 arr:328.81369048360773 len:10, 4, 0, 0), (334.81369048360773, 'run', Task 90518 arr:328.81369048360773 len:10, 4, 0, 0), (409.2178802265507, 'arrive', Task 90519 arr:409.2178802265507 len:10, 1), (409.2178802265507, 'run', Task 90519 arr:409.2178802265507 len:10, 2, 0, 0), (411.2178802265507, 'run', Task 90519 arr:409.2178802265507 len:10, 4, 0, 0), (415.2178802265507, 'run', Task 90519 arr:409.2178802265507 len:10, 4, 0, 0), (426.6960374372021, 'arrive', Task 90520 arr:426.6960374372021 len:10, 1), (426.6960374372021, 'run', Task 90520 arr:426.6960374372021 len:10, 2, 0, 0), (428.6960374372021, 'run', Task 90520 arr:426.6960374372021 len:10, 4, 0, 0), (432.6960374372021, 'run', Task 90520 arr:426.6960374372021 len:10, 4, 0, 0), (469.7647020833707, 'arrive', Task 90521 arr:469.7647020833707 len:10, 1), (469.7647020833707, 'run', Task 90521 arr:469.7647020833707 len:10, 2, 0, 0), (471.7647020833707, 'run', Task 90521 arr:469.7647020833707 len:10, 4, 0, 0), (475.7647020833707, 'run', Task 90521 arr:469.7647020833707 len:10, 4, 0, 0), (559.1866750230985, 'arrive', Task 90522 arr:559.1866750230985 len:10, 1), (559.1866750230985, 'run', Task 90522 arr:559.1866750230985 len:10, 2, 0, 0), (561.1866750230985, 'run', Task 90522 arr:559.1866750230985 len:10, 4, 0, 0), (565.1866750230985, 'run', Task 90522 arr:559.1866750230985 len:10, 4, 0, 0), (600.5938952240899, 'arrive', Task 90523 arr:600.5938952240899 len:10, 1), (600.5938952240899, 'run', Task 90523 arr:600.5938952240899 len:10, 2, 0, 0), (602.5938952240899, 'run', Task 90523 arr:600.5938952240899 len:10, 4, 0, 0), (606.5938952240899, 'run', Task 90523 arr:600.5938952240899 len:10, 4, 0, 0), (761.0067421708441, 'arrive', Task 90524 arr:761.0067421708441 len:10, 1), (761.0067421708441, 'run', Task 90524 arr:761.0067421708441 len:10, 2, 0, 0), (763.0067421708441, 'run', Task 90524 arr:761.0067421708441 len:10, 4, 0, 0), (767.0067421708441, 'run', Task 90524 arr:761.0067421708441 len:10, 4, 0, 0), (839.0088788201077, 'arrive', Task 90525 arr:839.0088788201077 len:10, 1), (839.0088788201077, 'run', Task 90525 arr:839.0088788201077 len:10, 2, 0, 0), (841.0088788201077, 'run', Task 90525 arr:839.0088788201077 len:10, 4, 0, 0), (842.2525798358512, 'arrive', Task 90526 arr:842.2525798358512 len:10, 1), (845.0088788201077, 'run', Task 90526 arr:842.2525798358512 len:10, 2, 1, 4), (847.0088788201077, 'run', Task 90525 arr:839.0088788201077 len:10, 4, 1, 8), (851.0088788201077, 'run', Task 90526 arr:842.2525798358512 len:10, 4, 0, 0), (852.6436663114073, 'arrive', Task 90527 arr:852.6436663114073 len:10, 1), (855.0088788201077, 'run', Task 90527 arr:852.6436663114073 len:10, 2, 1, 4), (857.0088788201077, 'run', Task 90526 arr:842.2525798358512 len:10, 4, 1, 8), (861.0088788201077, 'run', Task 90527 arr:852.6436663114073 len:10, 4, 0, 0), (865.0088788201077, 'run', Task 90527 arr:852.6436663114073 len:10, 4, 0, 0), (907.8045980216181, 'arrive', Task 90528 arr:907.8045980216181 len:10, 1), (907.8045980216181, 'run', Task 90528 arr:907.8045980216181 len:10, 2, 0, 0), (909.8045980216181, 'run', Task 90528 arr:907.8045980216181 len:10, 4, 0, 0), (913.8045980216181, 'run', Task 90528 arr:907.8045980216181 len:10, 4, 0, 0), (916.4187571187252, 'arrive', Task 90529 arr:916.4187571187252 len:10, 1), (917.8045980216181, 'run', Task 90529 arr:916.4187571187252 len:10, 2, 0, 0), (919.8045980216181, 'run', Task 90529 arr:916.4187571187252 len:10, 4, 0, 0), (923.8045980216181, 'run', Task 90529 arr:916.4187571187252 len:10, 4, 0, 0), (929.7910708208971, 'arrive', Task 90530 arr:929.7910708208971 len:10, 1), (929.7910708208971, 'run', Task 90530 arr:929.7910708208971 len:10, 2, 0, 0), (931.7910708208971, 'run', Task 90530 arr:929.7910708208971 len:10, 4, 0, 0), (935.7910708208971, 'run', Task 90530 arr:929.7910708208971 len:10, 4, 0, 0), (1046.6092619062542, 'arrive', Task 90531 arr:1046.6092619062542 len:10, 1), (1046.6092619062542, 'run', Task 90531 arr:1046.6092619062542 len:10, 2, 0, 0), (1048.6092619062542, 'run', Task 90531 arr:1046.6092619062542 len:10, 4, 0, 0), (1052.6092619062542, 'run', Task 90531 arr:1046.6092619062542 len:10, 4, 0, 0), (1095.2541722974909, 'arrive', Task 90532 arr:1095.2541722974909 len:10, 1), (1095.2541722974909, 'run', Task 90532 arr:1095.2541722974909 len:10, 2, 0, 0), (1097.2541722974909, 'run', Task 90532 arr:1095.2541722974909 len:10, 4, 0, 0), (1098.687049165703, 'arrive', Task 90533 arr:1098.687049165703 len:10, 1), (1101.2541722974909, 'run', Task 90533 arr:1098.687049165703 len:10, 2, 1, 4), (1103.2541722974909, 'run', Task 90532 arr:1095.2541722974909 len:10, 4, 1, 8), (1107.2541722974909, 'run', Task 90533 arr:1098.687049165703 len:10, 4, 0, 0), (1111.2541722974909, 'run', Task 90533 arr:1098.687049165703 len:10, 4, 0, 0), (1182.5688429863683, 'arrive', Task 90534 arr:1182.5688429863683 len:10, 1), (1182.5688429863683, 'run', Task 90534 arr:1182.5688429863683 len:10, 2, 0, 0), (1184.5688429863683, 'run', Task 90534 arr:1182.5688429863683 len:10, 4, 0, 0), (1188.5688429863683, 'run', Task 90534 arr:1182.5688429863683 len:10, 4, 0, 0), (1226.300851517841, 'arrive', Task 90535 arr:1226.300851517841 len:10, 1), (1226.300851517841, 'run', Task 90535 arr:1226.300851517841 len:10, 2, 0, 0), (1228.300851517841, 'run', Task 90535 arr:1226.300851517841 len:10, 4, 0, 0), (1232.300851517841, 'run', Task 90535 arr:1226.300851517841 len:10, 4, 0, 0), (1246.3787703251508, 'arrive', Task 90536 arr:1246.3787703251508 len:10, 1), (1246.3787703251508, 'run', Task 90536 arr:1246.3787703251508 len:10, 2, 0, 0), (1248.3787703251508, 'run', Task 90536 arr:1246.3787703251508 len:10, 4, 0, 0), (1252.3787703251508, 'run', Task 90536 arr:1246.3787703251508 len:10, 4, 0, 0), (1265.675925845529, 'arrive', Task 90537 arr:1265.675925845529 len:10, 1), (1265.675925845529, 'run', Task 90537 arr:1265.675925845529 len:10, 2, 0, 0), (1267.675925845529, 'run', Task 90537 arr:1265.675925845529 len:10, 4, 0, 0), (1269.3559503358374, 'arrive', Task 90538 arr:1269.3559503358374 len:10, 1), (1271.675925845529, 'run', Task 90538 arr:1269.3559503358374 len:10, 2, 1, 4), (1273.675925845529, 'run', Task 90537 arr:1265.675925845529 len:10, 4, 1, 8), (1277.675925845529, 'run', Task 90538 arr:1269.3559503358374 len:10, 4, 0, 0), (1280.667978262705, 'arrive', Task 90539 arr:1280.667978262705 len:10, 1), (1281.675925845529, 'run', Task 90539 arr:1280.667978262705 len:10, 2, 1, 4), (1283.675925845529, 'run', Task 90538 arr:1269.3559503358374 len:10, 4, 1, 8), (1285.091382086681, 'arrive', Task 90540 arr:1285.091382086681 len:10, 2), (1287.675925845529, 'run', Task 90540 arr:1285.091382086681 len:10, 2, 1, 8), (1289.675925845529, 'run', Task 90539 arr:1280.667978262705 len:10, 4, 1, 8), (1293.675925845529, 'run', Task 90540 arr:1285.091382086681 len:10, 4, 1, 4), (1297.675925845529, 'run', Task 90539 arr:1280.667978262705 len:10, 4, 1, 4), (1301.675925845529, 'run', Task 90540 arr:1285.091382086681 len:10, 4, 0, 0), (1351.2557923853483, 'arrive', Task 90541 arr:1351.2557923853483 len:10, 1), (1351.2557923853483, 'run', Task 90541 arr:1351.2557923853483 len:10, 2, 0, 0), (1353.2557923853483, 'run', Task 90541 arr:1351.2557923853483 len:10, 4, 0, 0), (1357.2557923853483, 'run', Task 90541 arr:1351.2557923853483 len:10, 4, 0, 0), (1359.4169730481547, 'arrive', Task 90542 arr:1359.4169730481547 len:10, 1), (1361.2557923853483, 'run', Task 90542 arr:1359.4169730481547 len:10, 2, 0, 0), (1363.2557923853483, 'run', Task 90542 arr:1359.4169730481547 len:10, 4, 0, 0), (1367.2557923853483, 'run', Task 90542 arr:1359.4169730481547 len:10, 4, 0, 0), (1391.2769267408999, 'arrive', Task 90543 arr:1391.2769267408999 len:10, 1), (1391.2769267408999, 'run', Task 90543 arr:1391.2769267408999 len:10, 2, 0, 0), (1393.2769267408999, 'run', Task 90543 arr:1391.2769267408999 len:10, 4, 0, 0), (1397.2769267408999, 'run', Task 90543 arr:1391.2769267408999 len:10, 4, 0, 0), (1422.519843807555, 'arrive', Task 90544 arr:1422.519843807555 len:10, 1), (1422.519843807555, 'run', Task 90544 arr:1422.519843807555 len:10, 2, 0, 0), (1424.519843807555, 'run', Task 90544 arr:1422.519843807555 len:10, 4, 0, 0), (1428.519843807555, 'run', Task 90544 arr:1422.519843807555 len:10, 4, 0, 0), (1466.781575359359, 'arrive', Task 90545 arr:1466.781575359359 len:10, 1), (1466.781575359359, 'run', Task 90545 arr:1466.781575359359 len:10, 2, 0, 0), (1468.781575359359, 'run', Task 90545 arr:1466.781575359359 len:10, 4, 0, 0), (1472.781575359359, 'run', Task 90545 arr:1466.781575359359 len:10, 4, 0, 0), (1473.7954093055992, 'arrive', Task 90546 arr:1473.7954093055992 len:10, 1), (1476.3333679583607, 'arrive', Task 90547 arr:1476.3333679583607 len:10, 2), (1476.781575359359, 'run', Task 90546 arr:1473.7954093055992 len:10, 2, 1, 10), (1478.781575359359, 'run', Task 90547 arr:1476.3333679583607 len:10, 2, 1, 8), (1480.781575359359, 'run', Task 90546 arr:1473.7954093055992 len:10, 4, 1, 8), (1481.8142909696141, 'arrive', Task 90548 arr:1481.8142909696141 len:10, 2), (1484.781575359359, 'run', Task 90548 arr:1481.8142909696141 len:10, 2, 2, 12), (1486.781575359359, 'run', Task 90547 arr:1476.3333679583607 len:10, 4, 2, 12), (1490.781575359359, 'run', Task 90546 arr:1473.7954093055992 len:10, 4, 2, 12), (1494.781575359359, 'run', Task 90548 arr:1481.8142909696141 len:10, 4, 1, 4), (1498.781575359359, 'run', Task 90547 arr:1476.3333679583607 len:10, 4, 1, 4), (1502.781575359359, 'run', Task 90548 arr:1481.8142909696141 len:10, 4, 0, 0), (1577.3837293783981, 'arrive', Task 90549 arr:1577.3837293783981 len:10, 1), (1577.3837293783981, 'run', Task 90549 arr:1577.3837293783981 len:10, 2, 0, 0), (1579.3837293783981, 'run', Task 90549 arr:1577.3837293783981 len:10, 4, 0, 0), (1583.3837293783981, 'run', Task 90549 arr:1577.3837293783981 len:10, 4, 0, 0), (1648.632702393036, 'arrive', Task 90550 arr:1648.632702393036 len:10, 1), (1648.632702393036, 'run', Task 90550 arr:1648.632702393036 len:10, 2, 0, 0), (1650.632702393036, 'run', Task 90550 arr:1648.632702393036 len:10, 4, 0, 0), (1654.632702393036, 'run', Task 90550 arr:1648.632702393036 len:10, 4, 0, 0), (1695.9631089189522, 'arrive', Task 90551 arr:1695.9631089189522 len:10, 1), (1695.9631089189522, 'run', Task 90551 arr:1695.9631089189522 len:10, 2, 0, 0), (1697.9631089189522, 'run', Task 90551 arr:1695.9631089189522 len:10, 4, 0, 0), (1701.9631089189522, 'run', Task 90551 arr:1695.9631089189522 len:10, 4, 0, 0), (1750.0647040121046, 'arrive', Task 90552 arr:1750.0647040121046 len:10, 1), (1750.0647040121046, 'run', Task 90552 arr:1750.0647040121046 len:10, 2, 0, 0), (1752.0647040121046, 'run', Task 90552 arr:1750.0647040121046 len:10, 4, 0, 0), (1756.0647040121046, 'run', Task 90552 arr:1750.0647040121046 len:10, 4, 0, 0), (1921.3745604559435, 'arrive', Task 90553 arr:1921.3745604559435 len:10, 1), (1921.3745604559435, 'run', Task 90553 arr:1921.3745604559435 len:10, 2, 0, 0), (1923.3745604559435, 'run', Task 90553 arr:1921.3745604559435 len:10, 4, 0, 0), (1927.3745604559435, 'run', Task 90553 arr:1921.3745604559435 len:10, 4, 0, 0), (1959.1616036352905, 'arrive', Task 90554 arr:1959.1616036352905 len:10, 1), (1959.1616036352905, 'run', Task 90554 arr:1959.1616036352905 len:10, 2, 0, 0), (1961.1616036352905, 'run', Task 90554 arr:1959.1616036352905 len:10, 4, 0, 0), (1965.1616036352905, 'run', Task 90554 arr:1959.1616036352905 len:10, 4, 0, 0), (2024.7690479365597, 'arrive', Task 90555 arr:2024.7690479365597 len:10, 1), (2024.7690479365597, 'run', Task 90555 arr:2024.7690479365597 len:10, 2, 0, 0), (2026.7690479365597, 'run', Task 90555 arr:2024.7690479365597 len:10, 4, 0, 0), (2030.7690479365597, 'run', Task 90555 arr:2024.7690479365597 len:10, 4, 0, 0), (2134.9708995113033, 'arrive', Task 90556 arr:2134.9708995113033 len:10, 1), (2134.9708995113033, 'run', Task 90556 arr:2134.9708995113033 len:10, 2, 0, 0), (2136.7877716484404, 'arrive', Task 90557 arr:2136.7877716484404 len:10, 1), (2136.9708995113033, 'run', Task 90557 arr:2136.7877716484404 len:10, 2, 1, 8), (2138.9708995113033, 'run', Task 90556 arr:2134.9708995113033 len:10, 4, 1, 8), (2142.9708995113033, 'run', Task 90557 arr:2136.7877716484404 len:10, 4, 1, 4), (2146.9708995113033, 'run', Task 90556 arr:2134.9708995113033 len:10, 4, 1, 4), (2150.9708995113033, 'run', Task 90557 arr:2136.7877716484404 len:10, 4, 0, 0), (2162.383467774286, 'arrive', Task 90558 arr:2162.383467774286 len:10, 1), (2162.383467774286, 'run', Task 90558 arr:2162.383467774286 len:10, 2, 0, 0), (2164.383467774286, 'run', Task 90558 arr:2162.383467774286 len:10, 4, 0, 0), (2166.750125223292, 'arrive', Task 90559 arr:2166.750125223292 len:10, 1), (2168.383467774286, 'run', Task 90559 arr:2166.750125223292 len:10, 2, 1, 4), (2170.383467774286, 'run', Task 90558 arr:2162.383467774286 len:10, 4, 1, 8), (2174.383467774286, 'run', Task 90559 arr:2166.750125223292 len:10, 4, 0, 0), (2178.383467774286, 'run', Task 90559 arr:2166.750125223292 len:10, 4, 0, 0), (2180.840986573804, 'arrive', Task 90560 arr:2180.840986573804 len:10, 1), (2182.383467774286, 'run', Task 90560 arr:2180.840986573804 len:10, 2, 0, 0), (2184.383467774286, 'run', Task 90560 arr:2180.840986573804 len:10, 4, 0, 0), (2188.383467774286, 'run', Task 90560 arr:2180.840986573804 len:10, 4, 0, 0), (2277.7941037695996, 'arrive', Task 90561 arr:2277.7941037695996 len:10, 1), (2277.7941037695996, 'run', Task 90561 arr:2277.7941037695996 len:10, 2, 0, 0), (2279.7941037695996, 'run', Task 90561 arr:2277.7941037695996 len:10, 4, 0, 0), (2283.7941037695996, 'run', Task 90561 arr:2277.7941037695996 len:10, 4, 0, 0), (2318.982507101103, 'arrive', Task 90562 arr:2318.982507101103 len:10, 1), (2318.982507101103, 'run', Task 90562 arr:2318.982507101103 len:10, 2, 0, 0), (2320.982507101103, 'run', Task 90562 arr:2318.982507101103 len:10, 4, 0, 0), (2324.982507101103, 'run', Task 90562 arr:2318.982507101103 len:10, 4, 0, 0), (2379.5283033574774, 'arrive', Task 90563 arr:2379.5283033574774 len:10, 1), (2379.5283033574774, 'run', Task 90563 arr:2379.5283033574774 len:10, 2, 0, 0), (2381.5283033574774, 'run', Task 90563 arr:2379.5283033574774 len:10, 4, 0, 0), (2385.5283033574774, 'run', Task 90563 arr:2379.5283033574774 len:10, 4, 0, 0), (2391.4965212035686, 'arrive', Task 90564 arr:2391.4965212035686 len:10, 1), (2391.4965212035686, 'run', Task 90564 arr:2391.4965212035686 len:10, 2, 0, 0), (2393.4965212035686, 'run', Task 90564 arr:2391.4965212035686 len:10, 4, 0, 0), (2397.4965212035686, 'run', Task 90564 arr:2391.4965212035686 len:10, 4, 0, 0), (2400.4804241918255, 'arrive', Task 90565 arr:2400.4804241918255 len:10, 1), (2401.4965212035686, 'run', Task 90565 arr:2400.4804241918255 len:10, 2, 0, 0), (2403.4965212035686, 'run', Task 90565 arr:2400.4804241918255 len:10, 4, 0, 0), (2407.4965212035686, 'run', Task 90565 arr:2400.4804241918255 len:10, 4, 0, 0), (2471.4229961869933, 'arrive', Task 90566 arr:2471.4229961869933 len:10, 1), (2471.4229961869933, 'run', Task 90566 arr:2471.4229961869933 len:10, 2, 0, 0), (2473.4229961869933, 'run', Task 90566 arr:2471.4229961869933 len:10, 4, 0, 0), (2477.4229961869933, 'run', Task 90566 arr:2471.4229961869933 len:10, 4, 0, 0), (2501.038681093246, 'arrive', Task 90567 arr:2501.038681093246 len:10, 1), (2501.038681093246, 'run', Task 90567 arr:2501.038681093246 len:10, 2, 0, 0), (2503.038681093246, 'run', Task 90567 arr:2501.038681093246 len:10, 4, 0, 0), (2507.038681093246, 'run', Task 90567 arr:2501.038681093246 len:10, 4, 0, 0), (2527.2723524731728, 'arrive', Task 90568 arr:2527.2723524731728 len:10, 1), (2527.2723524731728, 'run', Task 90568 arr:2527.2723524731728 len:10, 2, 0, 0), (2529.2723524731728, 'run', Task 90568 arr:2527.2723524731728 len:10, 4, 0, 0), (2533.2723524731728, 'run', Task 90568 arr:2527.2723524731728 len:10, 4, 0, 0), (2574.6244678375124, 'arrive', Task 90569 arr:2574.6244678375124 len:10, 1), (2574.6244678375124, 'run', Task 90569 arr:2574.6244678375124 len:10, 2, 0, 0), (2576.6244678375124, 'run', Task 90569 arr:2574.6244678375124 len:10, 4, 0, 0), (2580.6244678375124, 'run', Task 90569 arr:2574.6244678375124 len:10, 4, 0, 0), (2694.1403681706747, 'arrive', Task 90570 arr:2694.1403681706747 len:10, 1), (2694.1403681706747, 'run', Task 90570 arr:2694.1403681706747 len:10, 2, 0, 0), (2696.1403681706747, 'run', Task 90570 arr:2694.1403681706747 len:10, 4, 0, 0), (2697.999031801189, 'arrive', Task 90571 arr:2697.999031801189 len:10, 1), (2700.1403681706747, 'run', Task 90571 arr:2697.999031801189 len:10, 2, 1, 4), (2702.1403681706747, 'run', Task 90570 arr:2694.1403681706747 len:10, 4, 1, 8), (2703.6125187893554, 'arrive', Task 90572 arr:2703.6125187893554 len:10, 2), (2706.1403681706747, 'run', Task 90572 arr:2703.6125187893554 len:10, 2, 1, 8), (2708.1403681706747, 'run', Task 90571 arr:2697.999031801189 len:10, 4, 1, 8), (2712.1403681706747, 'run', Task 90572 arr:2703.6125187893554 len:10, 4, 1, 4), (2716.1403681706747, 'run', Task 90571 arr:2697.999031801189 len:10, 4, 1, 4), (2720.1403681706747, 'run', Task 90572 arr:2703.6125187893554 len:10, 4, 0, 0), (2729.26796145752, 'arrive', Task 90573 arr:2729.26796145752 len:10, 1), (2729.26796145752, 'run', Task 90573 arr:2729.26796145752 len:10, 2, 0, 0), (2731.26796145752, 'run', Task 90573 arr:2729.26796145752 len:10, 4, 0, 0), (2735.26796145752, 'run', Task 90573 arr:2729.26796145752 len:10, 4, 0, 0), (2759.947710281372, 'arrive', Task 90574 arr:2759.947710281372 len:10, 1), (2759.947710281372, 'run', Task 90574 arr:2759.947710281372 len:10, 2, 0, 0), (2761.947710281372, 'run', Task 90574 arr:2759.947710281372 len:10, 4, 0, 0), (2764.104063678875, 'arrive', Task 90575 arr:2764.104063678875 len:10, 1), (2765.947710281372, 'run', Task 90575 arr:2764.104063678875 len:10, 2, 1, 4), (2767.947710281372, 'run', Task 90574 arr:2759.947710281372 len:10, 4, 1, 8), (2771.947710281372, 'run', Task 90575 arr:2764.104063678875 len:10, 4, 0, 0), (2775.947710281372, 'run', Task 90575 arr:2764.104063678875 len:10, 4, 0, 0), (2811.7954527273178, 'arrive', Task 90576 arr:2811.7954527273178 len:10, 1), (2811.7954527273178, 'run', Task 90576 arr:2811.7954527273178 len:10, 2, 0, 0), (2813.7954527273178, 'run', Task 90576 arr:2811.7954527273178 len:10, 4, 0, 0), (2817.7954527273178, 'run', Task 90576 arr:2811.7954527273178 len:10, 4, 0, 0), (2917.672066354924, 'arrive', Task 90577 arr:2917.672066354924 len:10, 1), (2917.672066354924, 'run', Task 90577 arr:2917.672066354924 len:10, 2, 0, 0), (2919.672066354924, 'run', Task 90577 arr:2917.672066354924 len:10, 4, 0, 0), (2923.672066354924, 'run', Task 90577 arr:2917.672066354924 len:10, 4, 0, 0), (2961.7565741917138, 'arrive', Task 90578 arr:2961.7565741917138 len:10, 1), (2961.7565741917138, 'run', Task 90578 arr:2961.7565741917138 len:10, 2, 0, 0), (2963.7565741917138, 'run', Task 90578 arr:2961.7565741917138 len:10, 4, 0, 0), (2967.7565741917138, 'run', Task 90578 arr:2961.7565741917138 len:10, 4, 0, 0), (3090.939209188709, 'arrive', Task 90579 arr:3090.939209188709 len:10, 1), (3090.939209188709, 'run', Task 90579 arr:3090.939209188709 len:10, 2, 0, 0), (3092.939209188709, 'run', Task 90579 arr:3090.939209188709 len:10, 4, 0, 0), (3096.939209188709, 'run', Task 90579 arr:3090.939209188709 len:10, 4, 0, 0), (3156.0884496532376, 'arrive', Task 90580 arr:3156.0884496532376 len:10, 1), (3156.0884496532376, 'run', Task 90580 arr:3156.0884496532376 len:10, 2, 0, 0), (3158.0884496532376, 'run', Task 90580 arr:3156.0884496532376 len:10, 4, 0, 0), (3162.0884496532376, 'run', Task 90580 arr:3156.0884496532376 len:10, 4, 0, 0), (3164.8169781014994, 'arrive', Task 90581 arr:3164.8169781014994 len:10, 1), (3166.0884496532376, 'run', Task 90581 arr:3164.8169781014994 len:10, 2, 0, 0), (3168.0884496532376, 'run', Task 90581 arr:3164.8169781014994 len:10, 4, 0, 0), (3172.0884496532376, 'run', Task 90581 arr:3164.8169781014994 len:10, 4, 0, 0), (3185.4736356295366, 'arrive', Task 90582 arr:3185.4736356295366 len:10, 1), (3185.4736356295366, 'run', Task 90582 arr:3185.4736356295366 len:10, 2, 0, 0), (3187.4736356295366, 'run', Task 90582 arr:3185.4736356295366 len:10, 4, 0, 0), (3191.4736356295366, 'run', Task 90582 arr:3185.4736356295366 len:10, 4, 0, 0), (3231.517495200203, 'arrive', Task 90583 arr:3231.517495200203 len:10, 1), (3231.517495200203, 'run', Task 90583 arr:3231.517495200203 len:10, 2, 0, 0), (3233.517495200203, 'run', Task 90583 arr:3231.517495200203 len:10, 4, 0, 0), (3237.047850148464, 'arrive', Task 90584 arr:3237.047850148464 len:10, 1), (3237.517495200203, 'run', Task 90584 arr:3237.047850148464 len:10, 2, 1, 4), (3239.517495200203, 'run', Task 90583 arr:3231.517495200203 len:10, 4, 1, 8), (3243.517495200203, 'run', Task 90584 arr:3237.047850148464 len:10, 4, 0, 0), (3247.517495200203, 'run', Task 90584 arr:3237.047850148464 len:10, 4, 0, 0), (3282.0431774697704, 'arrive', Task 90585 arr:3282.0431774697704 len:10, 1), (3282.0431774697704, 'run', Task 90585 arr:3282.0431774697704 len:10, 2, 0, 0), (3284.0431774697704, 'run', Task 90585 arr:3282.0431774697704 len:10, 4, 0, 0), (3288.0431774697704, 'run', Task 90585 arr:3282.0431774697704 len:10, 4, 0, 0), (3302.9107324533215, 'arrive', Task 90586 arr:3302.9107324533215 len:10, 1), (3302.9107324533215, 'run', Task 90586 arr:3302.9107324533215 len:10, 2, 0, 0), (3304.9107324533215, 'run', Task 90586 arr:3302.9107324533215 len:10, 4, 0, 0), (3308.9107324533215, 'run', Task 90586 arr:3302.9107324533215 len:10, 4, 0, 0), (3343.736928706919, 'arrive', Task 90587 arr:3343.736928706919 len:10, 1), (3343.736928706919, 'run', Task 90587 arr:3343.736928706919 len:10, 2, 0, 0), (3345.736928706919, 'run', Task 90587 arr:3343.736928706919 len:10, 4, 0, 0), (3349.736928706919, 'run', Task 90587 arr:3343.736928706919 len:10, 4, 0, 0), (3349.8343983843697, 'arrive', Task 90588 arr:3349.8343983843697 len:10, 1), (3353.736928706919, 'run', Task 90588 arr:3349.8343983843697 len:10, 2, 0, 0), (3355.736928706919, 'run', Task 90588 arr:3349.8343983843697 len:10, 4, 0, 0), (3359.736928706919, 'run', Task 90588 arr:3349.8343983843697 len:10, 4, 0, 0), (3389.3129720937472, 'arrive', Task 90589 arr:3389.3129720937472 len:10, 1), (3389.3129720937472, 'run', Task 90589 arr:3389.3129720937472 len:10, 2, 0, 0), (3391.3129720937472, 'run', Task 90589 arr:3389.3129720937472 len:10, 4, 0, 0), (3395.3129720937472, 'run', Task 90589 arr:3389.3129720937472 len:10, 4, 0, 0), (3401.5121340153655, 'arrive', Task 90590 arr:3401.5121340153655 len:10, 1), (3401.5121340153655, 'run', Task 90590 arr:3401.5121340153655 len:10, 2, 0, 0), (3403.5121340153655, 'run', Task 90590 arr:3401.5121340153655 len:10, 4, 0, 0), (3407.5121340153655, 'run', Task 90590 arr:3401.5121340153655 len:10, 4, 0, 0), (3444.2370309319735, 'arrive', Task 90591 arr:3444.2370309319735 len:10, 1), (3444.2370309319735, 'run', Task 90591 arr:3444.2370309319735 len:10, 2, 0, 0), (3446.2370309319735, 'run', Task 90591 arr:3444.2370309319735 len:10, 4, 0, 0), (3450.2370309319735, 'run', Task 90591 arr:3444.2370309319735 len:10, 4, 0, 0), (3519.72300009583, 'arrive', Task 90592 arr:3519.72300009583 len:10, 1), (3519.72300009583, 'run', Task 90592 arr:3519.72300009583 len:10, 2, 0, 0), (3521.72300009583, 'run', Task 90592 arr:3519.72300009583 len:10, 4, 0, 0), (3525.72300009583, 'run', Task 90592 arr:3519.72300009583 len:10, 4, 0, 0), (3527.0331621945834, 'arrive', Task 90593 arr:3527.0331621945834 len:10, 1), (3529.72300009583, 'run', Task 90593 arr:3527.0331621945834 len:10, 2, 0, 0), (3531.72300009583, 'run', Task 90593 arr:3527.0331621945834 len:10, 4, 0, 0), (3535.72300009583, 'run', Task 90593 arr:3527.0331621945834 len:10, 4, 0, 0), (3561.061294970158, 'arrive', Task 90594 arr:3561.061294970158 len:10, 1), (3561.061294970158, 'run', Task 90594 arr:3561.061294970158 len:10, 2, 0, 0), (3563.061294970158, 'run', Task 90594 arr:3561.061294970158 len:10, 4, 0, 0), (3567.061294970158, 'run', Task 90594 arr:3561.061294970158 len:10, 4, 0, 0), (3639.8950290237212, 'arrive', Task 90595 arr:3639.8950290237212 len:10, 1), (3639.8950290237212, 'run', Task 90595 arr:3639.8950290237212 len:10, 2, 0, 0), (3641.8950290237212, 'run', Task 90595 arr:3639.8950290237212 len:10, 4, 0, 0), (3645.8950290237212, 'run', Task 90595 arr:3639.8950290237212 len:10, 4, 0, 0), (3663.4460702136266, 'arrive', Task 90596 arr:3663.4460702136266 len:10, 1), (3663.4460702136266, 'run', Task 90596 arr:3663.4460702136266 len:10, 2, 0, 0), (3665.4460702136266, 'run', Task 90596 arr:3663.4460702136266 len:10, 4, 0, 0), (3669.4460702136266, 'run', Task 90596 arr:3663.4460702136266 len:10, 4, 0, 0), (3778.416729502973, 'arrive', Task 90597 arr:3778.416729502973 len:10, 1), (3778.416729502973, 'run', Task 90597 arr:3778.416729502973 len:10, 2, 0, 0), (3780.416729502973, 'run', Task 90597 arr:3778.416729502973 len:10, 4, 0, 0), (3784.416729502973, 'run', Task 90597 arr:3778.416729502973 len:10, 4, 0, 0), (3799.8601610273276, 'arrive', Task 90598 arr:3799.8601610273276 len:10, 1), (3799.8601610273276, 'run', Task 90598 arr:3799.8601610273276 len:10, 2, 0, 0), (3801.8601610273276, 'run', Task 90598 arr:3799.8601610273276 len:10, 4, 0, 0), (3805.8601610273276, 'run', Task 90598 arr:3799.8601610273276 len:10, 4, 0, 0), (3867.934618168474, 'arrive', Task 90599 arr:3867.934618168474 len:10, 1), (3867.934618168474, 'run', Task 90599 arr:3867.934618168474 len:10, 2, 0, 0), (3869.934618168474, 'run', Task 90599 arr:3867.934618168474 len:10, 4, 0, 0), (3873.934618168474, 'run', Task 90599 arr:3867.934618168474 len:10, 4, 0, 0), (3910.0596318422577, 'arrive', Task 90600 arr:3910.0596318422577 len:10, 1), (3910.0596318422577, 'run', Task 90600 arr:3910.0596318422577 len:10, 2, 0, 0), (3912.0596318422577, 'run', Task 90600 arr:3910.0596318422577 len:10, 4, 0, 0), (3916.0596318422577, 'run', Task 90600 arr:3910.0596318422577 len:10, 4, 0, 0), (4004.226899338858, 'arrive', Task 90601 arr:4004.226899338858 len:10, 1), (4004.226899338858, 'run', Task 90601 arr:4004.226899338858 len:10, 2, 0, 0), (4006.226899338858, 'run', Task 90601 arr:4004.226899338858 len:10, 4, 0, 0), (4010.226899338858, 'run', Task 90601 arr:4004.226899338858 len:10, 4, 0, 0), (4014.4732129108424, 'arrive', Task 90602 arr:4014.4732129108424 len:10, 1), (4014.4732129108424, 'run', Task 90602 arr:4014.4732129108424 len:10, 2, 0, 0), (4016.4732129108424, 'run', Task 90602 arr:4014.4732129108424 len:10, 4, 0, 0), (4020.4732129108424, 'run', Task 90602 arr:4014.4732129108424 len:10, 4, 0, 0), (4020.5595933538093, 'arrive', Task 90603 arr:4020.5595933538093 len:10, 1), (4021.4571649371646, 'arrive', Task 90604 arr:4021.4571649371646 len:10, 2), (4024.4732129108424, 'run', Task 90603 arr:4020.5595933538093 len:10, 2, 1, 10), (4026.4732129108424, 'run', Task 90604 arr:4021.4571649371646 len:10, 2, 1, 8), (4028.4732129108424, 'run', Task 90603 arr:4020.5595933538093 len:10, 4, 1, 8), (4032.4732129108424, 'run', Task 90604 arr:4021.4571649371646 len:10, 4, 1, 4), (4036.4732129108424, 'run', Task 90603 arr:4020.5595933538093 len:10, 4, 1, 4), (4040.4732129108424, 'run', Task 90604 arr:4021.4571649371646 len:10, 4, 0, 0), (4130.08529970813, 'arrive', Task 90605 arr:4130.08529970813 len:10, 1), (4130.08529970813, 'run', Task 90605 arr:4130.08529970813 len:10, 2, 0, 0), (4132.08529970813, 'run', Task 90605 arr:4130.08529970813 len:10, 4, 0, 0), (4136.08529970813, 'run', Task 90605 arr:4130.08529970813 len:10, 4, 0, 0), (4150.239022265632, 'arrive', Task 90606 arr:4150.239022265632 len:10, 1), (4150.239022265632, 'run', Task 90606 arr:4150.239022265632 len:10, 2, 0, 0), (4152.239022265632, 'run', Task 90606 arr:4150.239022265632 len:10, 4, 0, 0), (4156.239022265632, 'run', Task 90606 arr:4150.239022265632 len:10, 4, 0, 0), (4226.087525731087, 'arrive', Task 90607 arr:4226.087525731087 len:10, 1), (4226.087525731087, 'run', Task 90607 arr:4226.087525731087 len:10, 2, 0, 0), (4228.087525731087, 'run', Task 90607 arr:4226.087525731087 len:10, 4, 0, 0), (4232.087525731087, 'run', Task 90607 arr:4226.087525731087 len:10, 4, 0, 0), (4430.895801897916, 'arrive', Task 90608 arr:4430.895801897916 len:10, 1), (4430.895801897916, 'run', Task 90608 arr:4430.895801897916 len:10, 2, 0, 0), (4432.895801897916, 'run', Task 90608 arr:4430.895801897916 len:10, 4, 0, 0), (4436.895801897916, 'run', Task 90608 arr:4430.895801897916 len:10, 4, 0, 0), (4439.521320873101, 'arrive', Task 90609 arr:4439.521320873101 len:10, 1), (4440.895801897916, 'run', Task 90609 arr:4439.521320873101 len:10, 2, 0, 0), (4442.895801897916, 'run', Task 90609 arr:4439.521320873101 len:10, 4, 0, 0), (4446.895801897916, 'run', Task 90609 arr:4439.521320873101 len:10, 4, 0, 0), (4449.331038777697, 'arrive', Task 90610 arr:4449.331038777697 len:10, 1), (4450.895801897916, 'run', Task 90610 arr:4449.331038777697 len:10, 2, 0, 0), (4452.895801897916, 'run', Task 90610 arr:4449.331038777697 len:10, 4, 0, 0), (4456.895801897916, 'run', Task 90610 arr:4449.331038777697 len:10, 4, 0, 0), (4484.911533562853, 'arrive', Task 90611 arr:4484.911533562853 len:10, 1), (4484.911533562853, 'run', Task 90611 arr:4484.911533562853 len:10, 2, 0, 0), (4486.911533562853, 'run', Task 90611 arr:4484.911533562853 len:10, 4, 0, 0), (4490.911533562853, 'run', Task 90611 arr:4484.911533562853 len:10, 4, 0, 0), (4562.320509079241, 'arrive', Task 90612 arr:4562.320509079241 len:10, 1), (4562.320509079241, 'run', Task 90612 arr:4562.320509079241 len:10, 2, 0, 0), (4564.320509079241, 'run', Task 90612 arr:4562.320509079241 len:10, 4, 0, 0), (4568.320509079241, 'run', Task 90612 arr:4562.320509079241 len:10, 4, 0, 0), (4599.867954254748, 'arrive', Task 90613 arr:4599.867954254748 len:10, 1), (4599.867954254748, 'run', Task 90613 arr:4599.867954254748 len:10, 2, 0, 0), (4601.867954254748, 'run', Task 90613 arr:4599.867954254748 len:10, 4, 0, 0), (4602.318954640029, 'arrive', Task 90614 arr:4602.318954640029 len:10, 1), (4605.6804594065, 'arrive', Task 90615 arr:4605.6804594065 len:10, 2), (4605.867954254748, 'run', Task 90614 arr:4602.318954640029 len:10, 2, 2, 14), (4607.867954254748, 'run', Task 90615 arr:4605.6804594065 len:10, 2, 2, 12), (4609.867954254748, 'run', Task 90613 arr:4599.867954254748 len:10, 4, 2, 16), (4613.867954254748, 'run', Task 90614 arr:4602.318954640029 len:10, 4, 1, 8), (4617.867954254748, 'run', Task 90615 arr:4605.6804594065 len:10, 4, 1, 4), (4621.867954254748, 'run', Task 90614 arr:4602.318954640029 len:10, 4, 1, 4), (4625.867954254748, 'run', Task 90615 arr:4605.6804594065 len:10, 4, 0, 0)]\n",
      "[(38.8202375819863, 'arrive', Task 90516 arr:38.8202375819863 len:10, 1), (38.8202375819863, 'run', Task 90516 arr:38.8202375819863 len:10, 2, 0, 0), (40.8202375819863, 'run', Task 90516 arr:38.8202375819863 len:10, 4, 0, 0), (44.8202375819863, 'run', Task 90516 arr:38.8202375819863 len:10, 4, 0, 0)]\n",
      "90516 38.8202375819863 48.8202375819863\n",
      "90516 38.8202375819863 48.8202375819863\n",
      "[(90.59009040779154, 'arrive', Task 90517 arr:90.59009040779154 len:10, 1), (90.59009040779154, 'run', Task 90517 arr:90.59009040779154 len:10, 2, 0, 0), (92.59009040779154, 'run', Task 90517 arr:90.59009040779154 len:10, 4, 0, 0), (96.59009040779154, 'run', Task 90517 arr:90.59009040779154 len:10, 4, 0, 0)]\n",
      "90517 90.59009040779154 100.59009040779154\n",
      "90517 90.59009040779154 100.59009040779154\n",
      "[(328.81369048360773, 'arrive', Task 90518 arr:328.81369048360773 len:10, 1), (328.81369048360773, 'run', Task 90518 arr:328.81369048360773 len:10, 2, 0, 0), (330.81369048360773, 'run', Task 90518 arr:328.81369048360773 len:10, 4, 0, 0), (334.81369048360773, 'run', Task 90518 arr:328.81369048360773 len:10, 4, 0, 0)]\n",
      "90518 328.81369048360773 338.81369048360773\n",
      "90518 328.81369048360773 338.81369048360773\n",
      "[(409.2178802265507, 'arrive', Task 90519 arr:409.2178802265507 len:10, 1), (409.2178802265507, 'run', Task 90519 arr:409.2178802265507 len:10, 2, 0, 0), (411.2178802265507, 'run', Task 90519 arr:409.2178802265507 len:10, 4, 0, 0), (415.2178802265507, 'run', Task 90519 arr:409.2178802265507 len:10, 4, 0, 0)]\n",
      "90519 409.2178802265507 419.2178802265507\n",
      "90519 409.2178802265507 419.2178802265507\n",
      "[(426.6960374372021, 'arrive', Task 90520 arr:426.6960374372021 len:10, 1), (426.6960374372021, 'run', Task 90520 arr:426.6960374372021 len:10, 2, 0, 0), (428.6960374372021, 'run', Task 90520 arr:426.6960374372021 len:10, 4, 0, 0), (432.6960374372021, 'run', Task 90520 arr:426.6960374372021 len:10, 4, 0, 0)]\n",
      "90520 426.6960374372021 436.6960374372021\n",
      "90520 426.6960374372021 436.6960374372021\n",
      "[(469.7647020833707, 'arrive', Task 90521 arr:469.7647020833707 len:10, 1), (469.7647020833707, 'run', Task 90521 arr:469.7647020833707 len:10, 2, 0, 0), (471.7647020833707, 'run', Task 90521 arr:469.7647020833707 len:10, 4, 0, 0), (475.7647020833707, 'run', Task 90521 arr:469.7647020833707 len:10, 4, 0, 0)]\n",
      "90521 469.7647020833707 479.7647020833707\n",
      "90521 469.7647020833707 479.7647020833707\n",
      "[(559.1866750230985, 'arrive', Task 90522 arr:559.1866750230985 len:10, 1), (559.1866750230985, 'run', Task 90522 arr:559.1866750230985 len:10, 2, 0, 0), (561.1866750230985, 'run', Task 90522 arr:559.1866750230985 len:10, 4, 0, 0), (565.1866750230985, 'run', Task 90522 arr:559.1866750230985 len:10, 4, 0, 0)]\n",
      "90522 559.1866750230985 569.1866750230985\n",
      "90522 559.1866750230985 569.1866750230985\n",
      "[(600.5938952240899, 'arrive', Task 90523 arr:600.5938952240899 len:10, 1), (600.5938952240899, 'run', Task 90523 arr:600.5938952240899 len:10, 2, 0, 0), (602.5938952240899, 'run', Task 90523 arr:600.5938952240899 len:10, 4, 0, 0), (606.5938952240899, 'run', Task 90523 arr:600.5938952240899 len:10, 4, 0, 0)]\n",
      "90523 600.5938952240899 610.5938952240899\n",
      "90523 600.5938952240899 610.5938952240899\n",
      "[(761.0067421708441, 'arrive', Task 90524 arr:761.0067421708441 len:10, 1), (761.0067421708441, 'run', Task 90524 arr:761.0067421708441 len:10, 2, 0, 0), (763.0067421708441, 'run', Task 90524 arr:761.0067421708441 len:10, 4, 0, 0), (767.0067421708441, 'run', Task 90524 arr:761.0067421708441 len:10, 4, 0, 0)]\n",
      "90524 761.0067421708441 771.0067421708441\n",
      "90524 761.0067421708441 771.0067421708441\n",
      "[(839.0088788201077, 'arrive', Task 90525 arr:839.0088788201077 len:10, 1), (839.0088788201077, 'run', Task 90525 arr:839.0088788201077 len:10, 2, 0, 0), (841.0088788201077, 'run', Task 90525 arr:839.0088788201077 len:10, 4, 0, 0)]\n",
      "90525 839.0088788201077 845.0088788201077\n",
      "90525 839.0088788201077 851.0088788201077\n"
     ]
    },
    {
     "ename": "AssertionError",
     "evalue": "",
     "output_type": "error",
     "traceback": [
      "\u001b[0;31m---------------------------------------------------------------------------\u001b[0m",
      "\u001b[0;31mAssertionError\u001b[0m                            Traceback (most recent call last)",
      "\u001b[0;32m<ipython-input-48-5a5b8fd40fa3>\u001b[0m in \u001b[0;36m<module>\u001b[0;34m()\u001b[0m\n\u001b[1;32m     20\u001b[0m         \u001b[0;31m# print(cpulog)\u001b[0m\u001b[0;34m\u001b[0m\u001b[0;34m\u001b[0m\u001b[0;34m\u001b[0m\u001b[0m\n\u001b[1;32m     21\u001b[0m         \u001b[0mtrial_utilizations\u001b[0m\u001b[0;34m.\u001b[0m\u001b[0mappend\u001b[0m\u001b[0;34m(\u001b[0m\u001b[0mcpuUtilization\u001b[0m\u001b[0;34m(\u001b[0m\u001b[0mcpulog\u001b[0m\u001b[0;34m)\u001b[0m\u001b[0;34m)\u001b[0m\u001b[0;34m\u001b[0m\u001b[0;34m\u001b[0m\u001b[0m\n\u001b[0;32m---> 22\u001b[0;31m         \u001b[0mtrial_medians\u001b[0m\u001b[0;34m.\u001b[0m\u001b[0mappend\u001b[0m\u001b[0;34m(\u001b[0m\u001b[0mnp\u001b[0m\u001b[0;34m.\u001b[0m\u001b[0mmedian\u001b[0m\u001b[0;34m(\u001b[0m\u001b[0mresponseTimes\u001b[0m\u001b[0;34m(\u001b[0m\u001b[0mcpulog\u001b[0m\u001b[0;34m)\u001b[0m\u001b[0;34m)\u001b[0m\u001b[0;34m)\u001b[0m\u001b[0;34m\u001b[0m\u001b[0;34m\u001b[0m\u001b[0m\n\u001b[0m\u001b[1;32m     23\u001b[0m         \u001b[0mtrial_95ths\u001b[0m\u001b[0;34m.\u001b[0m\u001b[0mappend\u001b[0m\u001b[0;34m(\u001b[0m\u001b[0mnp\u001b[0m\u001b[0;34m.\u001b[0m\u001b[0mpercentile\u001b[0m\u001b[0;34m(\u001b[0m\u001b[0mresponseTimes\u001b[0m\u001b[0;34m(\u001b[0m\u001b[0mcpulog\u001b[0m\u001b[0;34m)\u001b[0m\u001b[0;34m,\u001b[0m \u001b[0;36m95\u001b[0m\u001b[0;34m)\u001b[0m\u001b[0;34m)\u001b[0m\u001b[0;34m\u001b[0m\u001b[0;34m\u001b[0m\u001b[0m\n\u001b[1;32m     24\u001b[0m \u001b[0;34m\u001b[0m\u001b[0m\n",
      "\u001b[0;32m<ipython-input-47-eaa7f9b3165b>\u001b[0m in \u001b[0;36mresponseTimes\u001b[0;34m(cpulog)\u001b[0m\n\u001b[1;32m     32\u001b[0m         \u001b[0mprint\u001b[0m\u001b[0;34m(\u001b[0m\u001b[0mtask\u001b[0m\u001b[0;34m,\u001b[0m \u001b[0mtasks_arrive\u001b[0m\u001b[0;34m[\u001b[0m\u001b[0mtask\u001b[0m\u001b[0;34m]\u001b[0m\u001b[0;34m,\u001b[0m \u001b[0mtasks_end\u001b[0m\u001b[0;34m[\u001b[0m\u001b[0mtask\u001b[0m\u001b[0;34m]\u001b[0m\u001b[0;34m)\u001b[0m\u001b[0;34m\u001b[0m\u001b[0;34m\u001b[0m\u001b[0m\n\u001b[1;32m     33\u001b[0m         \u001b[0;32massert\u001b[0m \u001b[0marrive\u001b[0m \u001b[0;34m==\u001b[0m \u001b[0mtasks_arrive\u001b[0m\u001b[0;34m[\u001b[0m\u001b[0mtask\u001b[0m\u001b[0;34m]\u001b[0m\u001b[0;34m\u001b[0m\u001b[0;34m\u001b[0m\u001b[0m\n\u001b[0;32m---> 34\u001b[0;31m         \u001b[0;32massert\u001b[0m \u001b[0mend\u001b[0m \u001b[0;34m==\u001b[0m \u001b[0mtasks_end\u001b[0m\u001b[0;34m[\u001b[0m\u001b[0mtask\u001b[0m\u001b[0;34m]\u001b[0m\u001b[0;34m\u001b[0m\u001b[0;34m\u001b[0m\u001b[0m\n\u001b[0m\u001b[1;32m     35\u001b[0m         \u001b[0mresponse_times\u001b[0m\u001b[0;34m.\u001b[0m\u001b[0mappend\u001b[0m\u001b[0;34m(\u001b[0m\u001b[0mend\u001b[0m \u001b[0;34m-\u001b[0m \u001b[0marrive\u001b[0m\u001b[0;34m)\u001b[0m\u001b[0;34m\u001b[0m\u001b[0;34m\u001b[0m\u001b[0m\n\u001b[1;32m     36\u001b[0m     \u001b[0;32mreturn\u001b[0m \u001b[0mresponse_times\u001b[0m\u001b[0;34m\u001b[0m\u001b[0;34m\u001b[0m\u001b[0m\n",
      "\u001b[0;31mAssertionError\u001b[0m: "
     ]
    }
   ],
   "source": [
    "# l and lmbdas are \"recommended values\" that you can change if desired\n",
    "l = 10\n",
    "lmbdas = np.array((0.2, 0.5, 0.7, 0.8, 0.9, 0.93, 0.95, 0.97, 0.99)) / l\n",
    "\n",
    "# Decrease this when developing in case it takes too long\n",
    "TRIALS = 1#100\n",
    "\n",
    "response_time_medians = []\n",
    "response_time_95th_percentiles = []\n",
    "utilizations = []\n",
    "for lmbda in lmbdas:\n",
    "    trial_utilizations = []\n",
    "    trial_medians = []\n",
    "    trial_95ths = []\n",
    "    \n",
    "    for _ in range(TRIALS):\n",
    "        # YOUR CODE HERE\n",
    "        tasks = make_exp_arrivals(arrival_rate=lmbda, service_time=l, n=100)\n",
    "        cpulog = mlfq2(tasks, 2, 4, False).log\n",
    "        # print(cpulog)\n",
    "        trial_utilizations.append(cpuUtilization(cpulog))\n",
    "        trial_medians.append(np.median(responseTimes(cpulog)))\n",
    "        trial_95ths.append(np.percentile(responseTimes(cpulog), 95))\n",
    "    \n",
    "    response_time_medians.append(np.mean(trial_medians))\n",
    "    response_time_95th_percentiles.append(np.mean(trial_95ths))\n",
    "    utilizations.append(np.mean(trial_utilizations))\n",
    "    \n",
    "    # This takes a while to run so this print statement lets us track progress\n",
    "    print(\"Finished\", lmbda)"
   ]
  },
  {
   "cell_type": "code",
   "execution_count": 33,
   "metadata": {},
   "outputs": [
    {
     "data": {
      "image/png": "[encoded data removed]",
      "text/plain": [
       "<Figure size 432x288 with 1 Axes>"
      ]
     },
     "metadata": {},
     "output_type": "display_data"
    }
   ],
   "source": [
    "plt.xlabel(\"Arrival Rate (lambda)\")\n",
    "plt.ylabel(\"Utilization\")\n",
    "plt.plot(lmbdas, utilizations)\n",
    "plt.show()"
   ]
  },
  {
   "cell_type": "code",
   "execution_count": 34,
   "metadata": {},
   "outputs": [
    {
     "data": {
      "image/png": "[encoded data removed]",
      "text/plain": [
       "<Figure size 432x288 with 1 Axes>"
      ]
     },
     "metadata": {},
     "output_type": "display_data"
    }
   ],
   "source": [
    "plt.xlabel(\"Arrival Rate ($\\lambda$)\")\n",
    "plt.ylabel(\"Response Time\")\n",
    "plt.plot(lmbdas, response_time_95th_percentiles, label=\"95th percentile\")\n",
    "plt.plot(lmbdas, response_time_medians, label=\"median\")\n",
    "plt.legend()\n",
    "plt.show()"
   ]
  },
  {
   "cell_type": "markdown",
   "metadata": {},
   "source": [
    "# Problem 3: Fairness for CPU Bursts"
   ]
  },
  {
   "cell_type": "code",
   "execution_count": 35,
   "metadata": {},
   "outputs": [],
   "source": [
    "import bisect\n",
    "\n",
    "def create_problem3_task(lmbda, num_bursts):\n",
    "    # YOUR CODE HERE\n",
    "    pass\n",
    "\n",
    "def create_problem3_workload(lmbda, num_bursts):\n",
    "    task_S = create_problem3_task(lmbda, num_bursts)\n",
    "    task_T = create_problem3_task(lmbda, num_bursts)\n",
    "    return task_S, task_T"
   ]
  },
  {
   "cell_type": "code",
   "execution_count": 36,
   "metadata": {},
   "outputs": [
    {
     "ename": "AttributeError",
     "evalue": "'NoneType' object has no attribute 'arrival_time'",
     "output_type": "error",
     "traceback": [
      "\u001b[0;31m---------------------------------------------------------------------------\u001b[0m",
      "\u001b[0;31mAttributeError\u001b[0m                            Traceback (most recent call last)",
      "\u001b[0;32m<ipython-input-36-7b382040ccb3>\u001b[0m in \u001b[0;36m<module>\u001b[0;34m()\u001b[0m\n\u001b[1;32m      7\u001b[0m \u001b[0;34m\u001b[0m\u001b[0m\n\u001b[1;32m      8\u001b[0m \u001b[0;32mfor\u001b[0m \u001b[0m_\u001b[0m \u001b[0;32min\u001b[0m \u001b[0mrange\u001b[0m\u001b[0;34m(\u001b[0m\u001b[0mTRIALS\u001b[0m\u001b[0;34m)\u001b[0m\u001b[0;34m:\u001b[0m\u001b[0;34m\u001b[0m\u001b[0;34m\u001b[0m\u001b[0m\n\u001b[0;32m----> 9\u001b[0;31m     \u001b[0mfcfs_cpu\u001b[0m \u001b[0;34m=\u001b[0m \u001b[0mfcfs\u001b[0m\u001b[0;34m(\u001b[0m\u001b[0mcreate_problem3_workload\u001b[0m\u001b[0;34m(\u001b[0m\u001b[0;36m1.0\u001b[0m\u001b[0;34m,\u001b[0m \u001b[0;36m100\u001b[0m\u001b[0;34m)\u001b[0m\u001b[0;34m,\u001b[0m \u001b[0;32mFalse\u001b[0m\u001b[0;34m)\u001b[0m\u001b[0;34m\u001b[0m\u001b[0;34m\u001b[0m\u001b[0m\n\u001b[0m\u001b[1;32m     10\u001b[0m     \u001b[0melapsed_0\u001b[0m \u001b[0;34m=\u001b[0m \u001b[0mfcfs_cpu\u001b[0m\u001b[0;34m.\u001b[0m\u001b[0mthreads\u001b[0m\u001b[0;34m[\u001b[0m\u001b[0;36m0\u001b[0m\u001b[0;34m]\u001b[0m\u001b[0;34m.\u001b[0m\u001b[0melapsed_time\u001b[0m\u001b[0;34m\u001b[0m\u001b[0;34m\u001b[0m\u001b[0m\n\u001b[1;32m     11\u001b[0m     \u001b[0melapsed_1\u001b[0m \u001b[0;34m=\u001b[0m \u001b[0mfcfs_cpu\u001b[0m\u001b[0;34m.\u001b[0m\u001b[0mthreads\u001b[0m\u001b[0;34m[\u001b[0m\u001b[0;36m1\u001b[0m\u001b[0;34m]\u001b[0m\u001b[0;34m.\u001b[0m\u001b[0melapsed_time\u001b[0m\u001b[0;34m\u001b[0m\u001b[0;34m\u001b[0m\u001b[0m\n",
      "\u001b[0;32m<ipython-input-7-a9b91be3538d>\u001b[0m in \u001b[0;36mfcfs\u001b[0;34m(tasks, verbose)\u001b[0m\n\u001b[1;32m     55\u001b[0m \u001b[0;34m\u001b[0m\u001b[0m\n\u001b[1;32m     56\u001b[0m \u001b[0;32mdef\u001b[0m \u001b[0mfcfs\u001b[0m\u001b[0;34m(\u001b[0m\u001b[0mtasks\u001b[0m\u001b[0;34m,\u001b[0m \u001b[0mverbose\u001b[0m\u001b[0;34m=\u001b[0m\u001b[0;32mFalse\u001b[0m\u001b[0;34m)\u001b[0m\u001b[0;34m:\u001b[0m\u001b[0;34m\u001b[0m\u001b[0;34m\u001b[0m\u001b[0m\n\u001b[0;32m---> 57\u001b[0;31m     \u001b[0;32mreturn\u001b[0m \u001b[0mround_robin\u001b[0m\u001b[0;34m(\u001b[0m\u001b[0mtasks\u001b[0m\u001b[0;34m,\u001b[0m \u001b[0;36m0\u001b[0m\u001b[0;34m,\u001b[0m \u001b[0mverbose\u001b[0m\u001b[0;34m)\u001b[0m\u001b[0;34m\u001b[0m\u001b[0;34m\u001b[0m\u001b[0m\n\u001b[0m",
      "\u001b[0;32m<ipython-input-7-a9b91be3538d>\u001b[0m in \u001b[0;36mround_robin\u001b[0;34m(tasks, q, verbose)\u001b[0m\n\u001b[1;32m     52\u001b[0m \u001b[0;34m\u001b[0m\u001b[0m\n\u001b[1;32m     53\u001b[0m \u001b[0;32mdef\u001b[0m \u001b[0mround_robin\u001b[0m\u001b[0;34m(\u001b[0m\u001b[0mtasks\u001b[0m\u001b[0;34m,\u001b[0m \u001b[0mq\u001b[0m\u001b[0;34m,\u001b[0m \u001b[0mverbose\u001b[0m\u001b[0;34m=\u001b[0m\u001b[0;32mFalse\u001b[0m\u001b[0;34m)\u001b[0m\u001b[0;34m:\u001b[0m\u001b[0;34m\u001b[0m\u001b[0;34m\u001b[0m\u001b[0m\n\u001b[0;32m---> 54\u001b[0;31m     \u001b[0;32mreturn\u001b[0m \u001b[0mscheduler\u001b[0m\u001b[0;34m(\u001b[0m\u001b[0mtasks\u001b[0m\u001b[0;34m,\u001b[0m \u001b[0mq\u001b[0m\u001b[0;34m,\u001b[0m \u001b[0mFIFOQueue\u001b[0m\u001b[0;34m,\u001b[0m \u001b[0mverbose\u001b[0m\u001b[0;34m)\u001b[0m\u001b[0;34m\u001b[0m\u001b[0;34m\u001b[0m\u001b[0m\n\u001b[0m\u001b[1;32m     55\u001b[0m \u001b[0;34m\u001b[0m\u001b[0m\n\u001b[1;32m     56\u001b[0m \u001b[0;32mdef\u001b[0m \u001b[0mfcfs\u001b[0m\u001b[0;34m(\u001b[0m\u001b[0mtasks\u001b[0m\u001b[0;34m,\u001b[0m \u001b[0mverbose\u001b[0m\u001b[0;34m=\u001b[0m\u001b[0;32mFalse\u001b[0m\u001b[0;34m)\u001b[0m\u001b[0;34m:\u001b[0m\u001b[0;34m\u001b[0m\u001b[0;34m\u001b[0m\u001b[0m\n",
      "\u001b[0;32m<ipython-input-7-a9b91be3538d>\u001b[0m in \u001b[0;36mscheduler\u001b[0;34m(tasks, q, queue_class, verbose)\u001b[0m\n\u001b[1;32m     33\u001b[0m \u001b[0;34m\u001b[0m\u001b[0m\n\u001b[1;32m     34\u001b[0m \u001b[0;32mdef\u001b[0m \u001b[0mscheduler\u001b[0m\u001b[0;34m(\u001b[0m\u001b[0mtasks\u001b[0m\u001b[0;34m,\u001b[0m \u001b[0mq\u001b[0m\u001b[0;34m,\u001b[0m \u001b[0mqueue_class\u001b[0m\u001b[0;34m,\u001b[0m \u001b[0mverbose\u001b[0m\u001b[0;34m=\u001b[0m\u001b[0;32mFalse\u001b[0m\u001b[0;34m)\u001b[0m\u001b[0;34m:\u001b[0m\u001b[0;34m\u001b[0m\u001b[0;34m\u001b[0m\u001b[0m\n\u001b[0;32m---> 35\u001b[0;31m     \u001b[0mremaining\u001b[0m \u001b[0;34m=\u001b[0m \u001b[0mTaskStream\u001b[0m\u001b[0;34m(\u001b[0m\u001b[0mtasks\u001b[0m\u001b[0;34m)\u001b[0m\u001b[0;34m\u001b[0m\u001b[0;34m\u001b[0m\u001b[0m\n\u001b[0m\u001b[1;32m     36\u001b[0m     \u001b[0mready\u001b[0m \u001b[0;34m=\u001b[0m \u001b[0mqueue_class\u001b[0m\u001b[0;34m(\u001b[0m\u001b[0;34m)\u001b[0m\u001b[0;34m\u001b[0m\u001b[0;34m\u001b[0m\u001b[0m\n\u001b[1;32m     37\u001b[0m     \u001b[0mcpu\u001b[0m \u001b[0;34m=\u001b[0m \u001b[0mMachine\u001b[0m\u001b[0;34m(\u001b[0m\u001b[0mremaining\u001b[0m\u001b[0;34m,\u001b[0m \u001b[0mready\u001b[0m\u001b[0;34m,\u001b[0m \u001b[0mverbose\u001b[0m\u001b[0;34m)\u001b[0m\u001b[0;34m\u001b[0m\u001b[0;34m\u001b[0m\u001b[0m\n",
      "\u001b[0;32m<ipython-input-4-d08f418df4d7>\u001b[0m in \u001b[0;36m__init__\u001b[0;34m(self, tasks)\u001b[0m\n\u001b[1;32m     22\u001b[0m     \u001b[0;34m\"\"\"Stream of tasks arriving as time moves forward\"\"\"\u001b[0m\u001b[0;34m\u001b[0m\u001b[0;34m\u001b[0m\u001b[0m\n\u001b[1;32m     23\u001b[0m     \u001b[0;32mdef\u001b[0m \u001b[0m__init__\u001b[0m\u001b[0;34m(\u001b[0m\u001b[0mself\u001b[0m\u001b[0;34m,\u001b[0m \u001b[0mtasks\u001b[0m\u001b[0;34m)\u001b[0m\u001b[0;34m:\u001b[0m\u001b[0;34m\u001b[0m\u001b[0;34m\u001b[0m\u001b[0m\n\u001b[0;32m---> 24\u001b[0;31m         \u001b[0mself\u001b[0m\u001b[0;34m.\u001b[0m\u001b[0mtasks\u001b[0m \u001b[0;34m=\u001b[0m \u001b[0msorted\u001b[0m\u001b[0;34m(\u001b[0m\u001b[0mtasks\u001b[0m\u001b[0;34m,\u001b[0m \u001b[0mkey\u001b[0m\u001b[0;34m=\u001b[0m\u001b[0;32mlambda\u001b[0m \u001b[0mx\u001b[0m\u001b[0;34m:\u001b[0m \u001b[0mx\u001b[0m\u001b[0;34m.\u001b[0m\u001b[0marrival_time\u001b[0m\u001b[0;34m)\u001b[0m\u001b[0;34m\u001b[0m\u001b[0;34m\u001b[0m\u001b[0m\n\u001b[0m\u001b[1;32m     25\u001b[0m \u001b[0;34m\u001b[0m\u001b[0m\n\u001b[1;32m     26\u001b[0m     \u001b[0;32mdef\u001b[0m \u001b[0mnext_arrival\u001b[0m\u001b[0;34m(\u001b[0m\u001b[0mself\u001b[0m\u001b[0;34m)\u001b[0m\u001b[0;34m:\u001b[0m\u001b[0;34m\u001b[0m\u001b[0;34m\u001b[0m\u001b[0m\n",
      "\u001b[0;32m<ipython-input-4-d08f418df4d7>\u001b[0m in \u001b[0;36m<lambda>\u001b[0;34m(x)\u001b[0m\n\u001b[1;32m     22\u001b[0m     \u001b[0;34m\"\"\"Stream of tasks arriving as time moves forward\"\"\"\u001b[0m\u001b[0;34m\u001b[0m\u001b[0;34m\u001b[0m\u001b[0m\n\u001b[1;32m     23\u001b[0m     \u001b[0;32mdef\u001b[0m \u001b[0m__init__\u001b[0m\u001b[0;34m(\u001b[0m\u001b[0mself\u001b[0m\u001b[0;34m,\u001b[0m \u001b[0mtasks\u001b[0m\u001b[0;34m)\u001b[0m\u001b[0;34m:\u001b[0m\u001b[0;34m\u001b[0m\u001b[0;34m\u001b[0m\u001b[0m\n\u001b[0;32m---> 24\u001b[0;31m         \u001b[0mself\u001b[0m\u001b[0;34m.\u001b[0m\u001b[0mtasks\u001b[0m \u001b[0;34m=\u001b[0m \u001b[0msorted\u001b[0m\u001b[0;34m(\u001b[0m\u001b[0mtasks\u001b[0m\u001b[0;34m,\u001b[0m \u001b[0mkey\u001b[0m\u001b[0;34m=\u001b[0m\u001b[0;32mlambda\u001b[0m \u001b[0mx\u001b[0m\u001b[0;34m:\u001b[0m \u001b[0mx\u001b[0m\u001b[0;34m.\u001b[0m\u001b[0marrival_time\u001b[0m\u001b[0;34m)\u001b[0m\u001b[0;34m\u001b[0m\u001b[0;34m\u001b[0m\u001b[0m\n\u001b[0m\u001b[1;32m     25\u001b[0m \u001b[0;34m\u001b[0m\u001b[0m\n\u001b[1;32m     26\u001b[0m     \u001b[0;32mdef\u001b[0m \u001b[0mnext_arrival\u001b[0m\u001b[0;34m(\u001b[0m\u001b[0mself\u001b[0m\u001b[0;34m)\u001b[0m\u001b[0;34m:\u001b[0m\u001b[0;34m\u001b[0m\u001b[0;34m\u001b[0m\u001b[0m\n",
      "\u001b[0;31mAttributeError\u001b[0m: 'NoneType' object has no attribute 'arrival_time'"
     ]
    }
   ],
   "source": [
    "# Feel free to change this while developing if it takes too long to run\n",
    "TRIALS = 10000\n",
    "N = 1.1\n",
    "\n",
    "unfair_count = 0\n",
    "fair_count = 0\n",
    "\n",
    "for _ in range(TRIALS):\n",
    "    fcfs_cpu = fcfs(create_problem3_workload(1.0, 100), False)\n",
    "    elapsed_0 = fcfs_cpu.threads[0].elapsed_time\n",
    "    elapsed_1 = fcfs_cpu.threads[1].elapsed_time\n",
    "    if elapsed_0 / elapsed_1 > N or elapsed_1 / elapsed_0 > N:\n",
    "        unfair_count += 1\n",
    "    else:\n",
    "        fair_count += 1\n",
    "        \n",
    "print(\"Fraction of runs that were unfair:\", unfair_count / (fair_count + unfair_count))"
   ]
  },
  {
   "cell_type": "markdown",
   "metadata": {},
   "source": [
    "# Other Interesting Simulations"
   ]
  },
  {
   "cell_type": "markdown",
   "metadata": {},
   "source": [
    "Here are some other interesting types of graphs you can make, that might be useful to you as you complete the assignment."
   ]
  },
  {
   "cell_type": "code",
   "execution_count": null,
   "metadata": {},
   "outputs": [],
   "source": [
    "# Useful functions to process the logs\n",
    "\n",
    "def showQlen(cpulog):\n",
    "    times = [x[0] for x in cpulog if x[1] == 'run']\n",
    "    lengths = [x[4] for x in cpulog if x[1] == 'run']\n",
    "    plt.plot(np.repeat(times,2)[1:], np.repeat(lengths,2)[0:-1])\n",
    "    \n",
    "def showQweight(cpulog):\n",
    "    times = [x[0] for x in cpulog if x[1] == 'run']\n",
    "    weights = [x[5] for x in cpulog if x[1] == 'run']\n",
    "    plt.plot(np.repeat(times,2)[1:], np.repeat(weights,2)[0:-1])"
   ]
  },
  {
   "cell_type": "code",
   "execution_count": null,
   "metadata": {},
   "outputs": [],
   "source": [
    "# Create tasks with exponentially distributed arrival times and run lengths\n",
    "# The utilization is essentially the ratio of the means, but be careful as it gets loaded.\n",
    "utilization = 0.9\n",
    "interval = 40\n",
    "run_length = interval*utilization\n",
    "etasks = make_exp_arrivals(1 / interval, run_length, 200)"
   ]
  },
  {
   "cell_type": "code",
   "execution_count": null,
   "metadata": {},
   "outputs": [],
   "source": [
    "ecpu_fcfs = fcfs(etasks)\n",
    "wait_fcfs = sum([x.wait_time for x in ecpu_fcfs.threads])\n",
    "ecpu_rr = round_robin(etasks, 5)\n",
    "wait_rr = sum([x.wait_time for x in ecpu_rr.threads])"
   ]
  },
  {
   "cell_type": "code",
   "execution_count": null,
   "metadata": {},
   "outputs": [],
   "source": [
    "wait_fcfs, wait_rr"
   ]
  },
  {
   "cell_type": "code",
   "execution_count": null,
   "metadata": {},
   "outputs": [],
   "source": [
    "showQlen(ecpu_fcfs.log)"
   ]
  },
  {
   "cell_type": "code",
   "execution_count": null,
   "metadata": {},
   "outputs": [],
   "source": [
    "showQlen(ecpu_rr.log)"
   ]
  },
  {
   "cell_type": "code",
   "execution_count": null,
   "metadata": {},
   "outputs": [],
   "source": [
    "showQweight(ecpu_fcfs.log)"
   ]
  },
  {
   "cell_type": "code",
   "execution_count": null,
   "metadata": {},
   "outputs": [],
   "source": [
    "showQweight(ecpu_rr.log)"
   ]
  }
 ],
 "metadata": {
  "kernelspec": {
   "display_name": "Python 3",
   "language": "python",
   "name": "python3"
  },
  "language_info": {
   "codemirror_mode": {
    "name": "ipython",
    "version": 3
   },
   "file_extension": ".py",
   "mimetype": "text/x-python",
   "name": "python",
   "nbconvert_exporter": "python",
   "pygments_lexer": "ipython3",
   "version": "3.6.9"
  }
 },
 "nbformat": 4,
 "nbformat_minor": 4
}
